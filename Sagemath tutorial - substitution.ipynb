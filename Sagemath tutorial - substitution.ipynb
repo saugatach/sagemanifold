{
 "cells": [
  {
   "cell_type": "code",
   "execution_count": 4,
   "metadata": {},
   "outputs": [],
   "source": [
    "reset\n",
    "% display latex"
   ]
  },
  {
   "cell_type": "markdown",
   "metadata": {},
   "source": [
    "Define variables to be used in the function we are to define below"
   ]
  },
  {
   "cell_type": "code",
   "execution_count": 5,
   "metadata": {},
   "outputs": [],
   "source": [
    "var('x,y,z,k,t')\n",
    "a=var('alpha')"
   ]
  },
  {
   "cell_type": "markdown",
   "metadata": {},
   "source": [
    "Define a function"
   ]
  },
  {
   "cell_type": "code",
   "execution_count": 51,
   "metadata": {},
   "outputs": [
    {
     "data": {
      "text/html": [
       "<html><script type=\"math/tex; mode=display\">\\newcommand{\\Bold}[1]{\\mathbf{#1}}-{\\left(\\cosh\\left(\\frac{t}{\\alpha}\\right) e^{\\frac{t}{\\alpha}} + e^{\\frac{t}{\\alpha}} \\sinh\\left(\\frac{t}{\\alpha}\\right) - e^{\\left(\\frac{2 \\, t}{\\alpha}\\right)}\\right)} x^{2} - {\\left(\\cosh\\left(\\frac{t}{\\alpha}\\right) e^{\\frac{t}{\\alpha}} + e^{\\frac{t}{\\alpha}} \\sinh\\left(\\frac{t}{\\alpha}\\right) - e^{\\left(\\frac{2 \\, t}{\\alpha}\\right)}\\right)} y^{2} + \\alpha^{2}</script></html>"
      ],
      "text/plain": [
       "-(cosh(t/alpha)*e^(t/alpha) + e^(t/alpha)*sinh(t/alpha) - e^(2*t/alpha))*x^2 - (cosh(t/alpha)*e^(t/alpha) + e^(t/alpha)*sinh(t/alpha) - e^(2*t/alpha))*y^2 + alpha^2"
      ]
     },
     "execution_count": 51,
     "metadata": {},
     "output_type": "execute_result"
    }
   ],
   "source": [
    "fn = -(cosh(t/alpha)*e^(t/alpha) + e^(t/alpha)*sinh(t/alpha) - e^(2*t/alpha))*x^2 - (cosh(t/alpha)*e^(t/alpha) + e^(t/alpha)*sinh(t/alpha) - e^(2*t/alpha))*y^2 + alpha^2\n",
    "fn"
   ]
  },
  {
   "cell_type": "markdown",
   "metadata": {},
   "source": [
    "### TLDR"
   ]
  },
  {
   "cell_type": "code",
   "execution_count": 66,
   "metadata": {},
   "outputs": [
    {
     "data": {
      "text/html": [
       "<html><script type=\"math/tex; mode=display\">\\newcommand{\\Bold}[1]{\\mathbf{#1}}\\alpha^{2}</script></html>"
      ],
      "text/plain": [
       "alpha^2"
      ]
     },
     "execution_count": 66,
     "metadata": {},
     "output_type": "execute_result"
    }
   ],
   "source": [
    "fn.expand().expr().subs({sinh(t/a):(exp(t/a)-exp(-t/a))/2,cosh(t/a):(exp(t/a)+exp(-t/a))/2}).expand()"
   ]
  },
  {
   "cell_type": "markdown",
   "metadata": {},
   "source": [
    "### Substituting values"
   ]
  },
  {
   "cell_type": "code",
   "execution_count": 67,
   "metadata": {},
   "outputs": [],
   "source": [
    "fn = -(cosh(t/alpha)*e^(t/alpha) + e^(t/alpha)*sinh(t/alpha) - e^(2*t/alpha))*x^2 - (cosh(t/alpha)*e^(t/alpha) + e^(t/alpha)*sinh(t/alpha) - e^(2*t/alpha))*y^2 + alpha^2"
   ]
  },
  {
   "cell_type": "markdown",
   "metadata": {},
   "source": [
    "Try substituting a value for the variable $a$"
   ]
  },
  {
   "cell_type": "code",
   "execution_count": 68,
   "metadata": {},
   "outputs": [
    {
     "data": {
      "text/html": [
       "<html><script type=\"math/tex; mode=display\">\\newcommand{\\Bold}[1]{\\mathbf{#1}}-{\\left(\\cosh\\left(\\frac{t}{\\alpha}\\right) e^{\\frac{t}{\\alpha}} + e^{\\frac{t}{\\alpha}} \\sinh\\left(\\frac{t}{\\alpha}\\right) - e^{\\left(\\frac{2 \\, t}{\\alpha}\\right)}\\right)} x^{2} - {\\left(\\cosh\\left(\\frac{t}{\\alpha}\\right) e^{\\frac{t}{\\alpha}} + e^{\\frac{t}{\\alpha}} \\sinh\\left(\\frac{t}{\\alpha}\\right) - e^{\\left(\\frac{2 \\, t}{\\alpha}\\right)}\\right)} y^{2} + \\alpha^{2}</script></html>"
      ],
      "text/plain": [
       "-(cosh(t/alpha)*e^(t/alpha) + e^(t/alpha)*sinh(t/alpha) - e^(2*t/alpha))*x^2 - (cosh(t/alpha)*e^(t/alpha) + e^(t/alpha)*sinh(t/alpha) - e^(2*t/alpha))*y^2 + alpha^2"
      ]
     },
     "execution_count": 68,
     "metadata": {},
     "output_type": "execute_result"
    }
   ],
   "source": [
    "fn.subs(a=5)"
   ]
  },
  {
   "cell_type": "markdown",
   "metadata": {},
   "source": [
    "That substitution doesn't work. We will have to substitute $\\alpha$ even though the function was defined in mixed notation of $\\alpha$ and $a$ \n",
    "\n",
    "**The folowing subtitution works**"
   ]
  },
  {
   "cell_type": "code",
   "execution_count": 53,
   "metadata": {},
   "outputs": [
    {
     "data": {
      "text/html": [
       "<html><script type=\"math/tex; mode=display\">\\newcommand{\\Bold}[1]{\\mathbf{#1}}-{\\left(\\cosh\\left(\\frac{1}{5} \\, t\\right) e^{\\left(\\frac{1}{5} \\, t\\right)} + e^{\\left(\\frac{1}{5} \\, t\\right)} \\sinh\\left(\\frac{1}{5} \\, t\\right) - e^{\\left(\\frac{2}{5} \\, t\\right)}\\right)} x^{2} - {\\left(\\cosh\\left(\\frac{1}{5} \\, t\\right) e^{\\left(\\frac{1}{5} \\, t\\right)} + e^{\\left(\\frac{1}{5} \\, t\\right)} \\sinh\\left(\\frac{1}{5} \\, t\\right) - e^{\\left(\\frac{2}{5} \\, t\\right)}\\right)} y^{2} + 25</script></html>"
      ],
      "text/plain": [
       "-(cosh(1/5*t)*e^(1/5*t) + e^(1/5*t)*sinh(1/5*t) - e^(2/5*t))*x^2 - (cosh(1/5*t)*e^(1/5*t) + e^(1/5*t)*sinh(1/5*t) - e^(2/5*t))*y^2 + 25"
      ]
     },
     "execution_count": 53,
     "metadata": {},
     "output_type": "execute_result"
    }
   ],
   "source": [
    "fn.subs(alpha=5)"
   ]
  },
  {
   "cell_type": "markdown",
   "metadata": {},
   "source": [
    "The substitution is not however in-place. The functions are immutable and substitution returns an expression and does not change the original function itself"
   ]
  },
  {
   "cell_type": "code",
   "execution_count": 54,
   "metadata": {},
   "outputs": [
    {
     "data": {
      "text/html": [
       "<html><script type=\"math/tex; mode=display\">\\newcommand{\\Bold}[1]{\\mathbf{#1}}-{\\left(\\cosh\\left(\\frac{t}{\\alpha}\\right) e^{\\frac{t}{\\alpha}} + e^{\\frac{t}{\\alpha}} \\sinh\\left(\\frac{t}{\\alpha}\\right) - e^{\\left(\\frac{2 \\, t}{\\alpha}\\right)}\\right)} x^{2} - {\\left(\\cosh\\left(\\frac{t}{\\alpha}\\right) e^{\\frac{t}{\\alpha}} + e^{\\frac{t}{\\alpha}} \\sinh\\left(\\frac{t}{\\alpha}\\right) - e^{\\left(\\frac{2 \\, t}{\\alpha}\\right)}\\right)} y^{2} + \\alpha^{2}</script></html>"
      ],
      "text/plain": [
       "-(cosh(t/alpha)*e^(t/alpha) + e^(t/alpha)*sinh(t/alpha) - e^(2*t/alpha))*x^2 - (cosh(t/alpha)*e^(t/alpha) + e^(t/alpha)*sinh(t/alpha) - e^(2*t/alpha))*y^2 + alpha^2"
      ]
     },
     "execution_count": 54,
     "metadata": {},
     "output_type": "execute_result"
    }
   ],
   "source": [
    "fn"
   ]
  },
  {
   "cell_type": "markdown",
   "metadata": {},
   "source": [
    "### Substituting functions"
   ]
  },
  {
   "cell_type": "markdown",
   "metadata": {},
   "source": [
    "Functions can be substituted in Sagemath using a dictionary with **{original_function1:target_function1, original_function2:target_function2, ...}** "
   ]
  },
  {
   "cell_type": "code",
   "execution_count": 55,
   "metadata": {},
   "outputs": [
    {
     "data": {
      "text/html": [
       "<html><script type=\"math/tex; mode=display\">\\newcommand{\\Bold}[1]{\\mathbf{#1}}-\\frac{1}{2} \\, {\\left({\\left(e^{\\frac{t}{\\alpha}} + e^{\\left(-\\frac{t}{\\alpha}\\right)}\\right)} e^{\\frac{t}{\\alpha}} + {\\left(e^{\\frac{t}{\\alpha}} - e^{\\left(-\\frac{t}{\\alpha}\\right)}\\right)} e^{\\frac{t}{\\alpha}} - 2 \\, e^{\\left(\\frac{2 \\, t}{\\alpha}\\right)}\\right)} x^{2} - \\frac{1}{2} \\, {\\left({\\left(e^{\\frac{t}{\\alpha}} + e^{\\left(-\\frac{t}{\\alpha}\\right)}\\right)} e^{\\frac{t}{\\alpha}} + {\\left(e^{\\frac{t}{\\alpha}} - e^{\\left(-\\frac{t}{\\alpha}\\right)}\\right)} e^{\\frac{t}{\\alpha}} - 2 \\, e^{\\left(\\frac{2 \\, t}{\\alpha}\\right)}\\right)} y^{2} + \\alpha^{2}</script></html>"
      ],
      "text/plain": [
       "-1/2*((e^(t/alpha) + e^(-t/alpha))*e^(t/alpha) + (e^(t/alpha) - e^(-t/alpha))*e^(t/alpha) - 2*e^(2*t/alpha))*x^2 - 1/2*((e^(t/alpha) + e^(-t/alpha))*e^(t/alpha) + (e^(t/alpha) - e^(-t/alpha))*e^(t/alpha) - 2*e^(2*t/alpha))*y^2 + alpha^2"
      ]
     },
     "execution_count": 55,
     "metadata": {},
     "output_type": "execute_result"
    }
   ],
   "source": [
    "fn1 = fn.subs({sinh(t/alpha):(exp(t/alpha)-exp(-t/alpha))/2, cosh(t/alpha):(exp(t/alpha)+exp(-t/alpha))/2})\n",
    "fn1"
   ]
  },
  {
   "cell_type": "markdown",
   "metadata": {},
   "source": [
    "The subsitution does not automatically simpify the expression. However expanding the expression, applies the simplication routine"
   ]
  },
  {
   "cell_type": "code",
   "execution_count": 56,
   "metadata": {},
   "outputs": [
    {
     "data": {
      "text/html": [
       "<html><script type=\"math/tex; mode=display\">\\newcommand{\\Bold}[1]{\\mathbf{#1}}\\alpha^{2}</script></html>"
      ],
      "text/plain": [
       "alpha^2"
      ]
     },
     "execution_count": 56,
     "metadata": {},
     "output_type": "execute_result"
    }
   ],
   "source": [
    "fn1.expand()"
   ]
  },
  {
   "cell_type": "markdown",
   "metadata": {},
   "source": [
    "### Substituting in functions defined on a manifold"
   ]
  },
  {
   "cell_type": "markdown",
   "metadata": {},
   "source": [
    "Substituting functions which are defined on a manifold needs one extra step. We need to extract the actual functional expression with **expr()**"
   ]
  },
  {
   "cell_type": "markdown",
   "metadata": {},
   "source": [
    "#### Define Manifold"
   ]
  },
  {
   "cell_type": "code",
   "execution_count": 57,
   "metadata": {},
   "outputs": [
    {
     "data": {
      "text/html": [
       "<html><script type=\"math/tex; mode=display\">\\newcommand{\\Bold}[1]{\\mathbf{#1}}t :\\ \\left( -\\infty, +\\infty \\right) ;\\quad x :\\ \\left( -\\infty, +\\infty \\right) ;\\quad y :\\ \\left( -\\infty, +\\infty \\right)</script></html>"
      ],
      "text/plain": [
       "t: (-oo, +oo); x: (-oo, +oo); y: (-oo, +oo)"
      ]
     },
     "execution_count": 57,
     "metadata": {},
     "output_type": "execute_result"
    }
   ],
   "source": [
    "M = Manifold(3,'M')\n",
    "cart.<t, x, y> = M.chart()\n",
    "cart.coord_range()"
   ]
  },
  {
   "cell_type": "markdown",
   "metadata": {},
   "source": [
    "#### Define function on cartesian coordinates"
   ]
  },
  {
   "cell_type": "markdown",
   "metadata": {},
   "source": [
    "*These functions are differntiable maps from deSitter to Minkowski in Bondi coordinates*"
   ]
  },
  {
   "cell_type": "code",
   "execution_count": 58,
   "metadata": {},
   "outputs": [],
   "source": [
    "f0 = cart.function(a*sinh(t/a) + exp(t/a)/(2*a) * (x^2+y^2))\n",
    "f1 = cart.function( exp(t/a) * x  )\n",
    "f2 = cart.function( exp(t/a) * y )\n",
    "f3 = cart.function(a*cosh(t/a) - exp(t/a)/(2*a) * (x^2+y^2)  )"
   ]
  },
  {
   "cell_type": "markdown",
   "metadata": {},
   "source": [
    "Calculate $-f_0^2 + f_1^2 + f_2^2 + f_3^2 $"
   ]
  },
  {
   "cell_type": "code",
   "execution_count": 59,
   "metadata": {},
   "outputs": [],
   "source": [
    "ff =[f1,f2,f3]\n",
    "fn=-1*f0**2\n",
    "for f in ff:\n",
    "    fn = fn + f**2"
   ]
  },
  {
   "cell_type": "code",
   "execution_count": 60,
   "metadata": {},
   "outputs": [
    {
     "data": {
      "text/html": [
       "<html><script type=\"math/tex; mode=display\">\\newcommand{\\Bold}[1]{\\mathbf{#1}}-{\\left(\\cosh\\left(\\frac{t}{\\alpha}\\right) e^{\\frac{t}{\\alpha}} + e^{\\frac{t}{\\alpha}} \\sinh\\left(\\frac{t}{\\alpha}\\right) - e^{\\left(\\frac{2 \\, t}{\\alpha}\\right)}\\right)} x^{2} - {\\left(\\cosh\\left(\\frac{t}{\\alpha}\\right) e^{\\frac{t}{\\alpha}} + e^{\\frac{t}{\\alpha}} \\sinh\\left(\\frac{t}{\\alpha}\\right) - e^{\\left(\\frac{2 \\, t}{\\alpha}\\right)}\\right)} y^{2} + \\alpha^{2}</script></html>"
      ],
      "text/plain": [
       "-(cosh(t/alpha)*e^(t/alpha) + e^(t/alpha)*sinh(t/alpha) - e^(2*t/alpha))*x^2 - (cosh(t/alpha)*e^(t/alpha) + e^(t/alpha)*sinh(t/alpha) - e^(2*t/alpha))*y^2 + alpha^2"
      ]
     },
     "execution_count": 60,
     "metadata": {},
     "output_type": "execute_result"
    }
   ],
   "source": [
    "fn"
   ]
  },
  {
   "cell_type": "markdown",
   "metadata": {},
   "source": [
    "Trying to substitute the $sinh(x)$ and $cosh(x)$ doesn't work"
   ]
  },
  {
   "cell_type": "code",
   "execution_count": 61,
   "metadata": {},
   "outputs": [
    {
     "data": {
      "text/html": [
       "<html><script type=\"math/tex; mode=display\">\\newcommand{\\Bold}[1]{\\mathbf{#1}}-{\\left(\\cosh\\left(\\frac{t}{\\alpha}\\right) e^{\\frac{t}{\\alpha}} + e^{\\frac{t}{\\alpha}} \\sinh\\left(\\frac{t}{\\alpha}\\right) - e^{\\left(\\frac{2 \\, t}{\\alpha}\\right)}\\right)} x^{2} - {\\left(\\cosh\\left(\\frac{t}{\\alpha}\\right) e^{\\frac{t}{\\alpha}} + e^{\\frac{t}{\\alpha}} \\sinh\\left(\\frac{t}{\\alpha}\\right) - e^{\\left(\\frac{2 \\, t}{\\alpha}\\right)}\\right)} y^{2} + \\alpha^{2}</script></html>"
      ],
      "text/plain": [
       "-(cosh(t/alpha)*e^(t/alpha) + e^(t/alpha)*sinh(t/alpha) - e^(2*t/alpha))*x^2 - (cosh(t/alpha)*e^(t/alpha) + e^(t/alpha)*sinh(t/alpha) - e^(2*t/alpha))*y^2 + alpha^2"
      ]
     },
     "execution_count": 61,
     "metadata": {},
     "output_type": "execute_result"
    }
   ],
   "source": [
    "fn.subs({sinh(t/alpha):(exp(t/alpha)-exp(-t/alpha))/2, cosh(t/alpha):(exp(t/alpha)+exp(-t/alpha))/2})"
   ]
  },
  {
   "cell_type": "markdown",
   "metadata": {},
   "source": [
    "Two things must be done\n",
    "1. The function must be expanded so that each hyperbolic trig function has its own term so that the substituion routine can pick them out\n",
    "2. The algebraic expression have to extracted from the function using **expr()**"
   ]
  },
  {
   "cell_type": "code",
   "execution_count": 62,
   "metadata": {},
   "outputs": [
    {
     "data": {
      "text/html": [
       "<html><script type=\"math/tex; mode=display\">\\newcommand{\\Bold}[1]{\\mathbf{#1}}-x^{2} \\cosh\\left(\\frac{t}{\\alpha}\\right) e^{\\frac{t}{\\alpha}} - y^{2} \\cosh\\left(\\frac{t}{\\alpha}\\right) e^{\\frac{t}{\\alpha}} - x^{2} e^{\\frac{t}{\\alpha}} \\sinh\\left(\\frac{t}{\\alpha}\\right) - y^{2} e^{\\frac{t}{\\alpha}} \\sinh\\left(\\frac{t}{\\alpha}\\right) + x^{2} e^{\\left(\\frac{2 \\, t}{\\alpha}\\right)} + y^{2} e^{\\left(\\frac{2 \\, t}{\\alpha}\\right)} + \\alpha^{2}</script></html>"
      ],
      "text/plain": [
       "-x^2*cosh(t/alpha)*e^(t/alpha) - y^2*cosh(t/alpha)*e^(t/alpha) - x^2*e^(t/alpha)*sinh(t/alpha) - y^2*e^(t/alpha)*sinh(t/alpha) + x^2*e^(2*t/alpha) + y^2*e^(2*t/alpha) + alpha^2"
      ]
     },
     "execution_count": 62,
     "metadata": {},
     "output_type": "execute_result"
    }
   ],
   "source": [
    "fn.expand()"
   ]
  },
  {
   "cell_type": "code",
   "execution_count": 63,
   "metadata": {},
   "outputs": [
    {
     "data": {
      "text/html": [
       "<html><script type=\"math/tex; mode=display\">\\newcommand{\\Bold}[1]{\\mathbf{#1}}-\\frac{1}{2} \\, x^{2} {\\left(e^{\\frac{t}{\\alpha}} + e^{\\left(-\\frac{t}{\\alpha}\\right)}\\right)} e^{\\frac{t}{\\alpha}} - \\frac{1}{2} \\, y^{2} {\\left(e^{\\frac{t}{\\alpha}} + e^{\\left(-\\frac{t}{\\alpha}\\right)}\\right)} e^{\\frac{t}{\\alpha}} - \\frac{1}{2} \\, x^{2} {\\left(e^{\\frac{t}{\\alpha}} - e^{\\left(-\\frac{t}{\\alpha}\\right)}\\right)} e^{\\frac{t}{\\alpha}} - \\frac{1}{2} \\, y^{2} {\\left(e^{\\frac{t}{\\alpha}} - e^{\\left(-\\frac{t}{\\alpha}\\right)}\\right)} e^{\\frac{t}{\\alpha}} + x^{2} e^{\\left(\\frac{2 \\, t}{\\alpha}\\right)} + y^{2} e^{\\left(\\frac{2 \\, t}{\\alpha}\\right)} + \\alpha^{2}</script></html>"
      ],
      "text/plain": [
       "-1/2*x^2*(e^(t/alpha) + e^(-t/alpha))*e^(t/alpha) - 1/2*y^2*(e^(t/alpha) + e^(-t/alpha))*e^(t/alpha) - 1/2*x^2*(e^(t/alpha) - e^(-t/alpha))*e^(t/alpha) - 1/2*y^2*(e^(t/alpha) - e^(-t/alpha))*e^(t/alpha) + x^2*e^(2*t/alpha) + y^2*e^(2*t/alpha) + alpha^2"
      ]
     },
     "execution_count": 63,
     "metadata": {},
     "output_type": "execute_result"
    }
   ],
   "source": [
    "fn3 = fn.expr().subs({sinh(t/a):(exp(t/a)-exp(-t/a))/2,cosh(t/a):(exp(t/a)+exp(-t/a))/2})\n",
    "fn3"
   ]
  },
  {
   "cell_type": "code",
   "execution_count": 64,
   "metadata": {},
   "outputs": [
    {
     "data": {
      "text/html": [
       "<html><script type=\"math/tex; mode=display\">\\newcommand{\\Bold}[1]{\\mathbf{#1}}\\alpha^{2}</script></html>"
      ],
      "text/plain": [
       "alpha^2"
      ]
     },
     "execution_count": 64,
     "metadata": {},
     "output_type": "execute_result"
    }
   ],
   "source": [
    "fn3.expand()"
   ]
  },
  {
   "cell_type": "markdown",
   "metadata": {},
   "source": [
    "*As expected $-f_0^2 + f_1^2 + f_2^2 + f_3^2 = \\alpha^2 $ demonstrating that the deSitter is embedded as a hyperboloid in Minkowski*"
   ]
  }
 ],
 "metadata": {
  "kernelspec": {
   "display_name": "SageMath 8.1",
   "language": "",
   "name": "sagemath"
  },
  "language_info": {
   "codemirror_mode": {
    "name": "ipython",
    "version": 2
   },
   "file_extension": ".py",
   "mimetype": "text/x-python",
   "name": "python",
   "nbconvert_exporter": "python",
   "pygments_lexer": "ipython2",
   "version": "2.7.15+"
  }
 },
 "nbformat": 4,
 "nbformat_minor": 2
}
