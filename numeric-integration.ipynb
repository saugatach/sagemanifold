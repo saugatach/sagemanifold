{
 "cells": [
  {
   "cell_type": "markdown",
   "metadata": {},
   "source": [
    "# Numerical integration with unequal intervals in python "
   ]
  },
  {
   "cell_type": "markdown",
   "metadata": {},
   "source": [
    "Numerical integration is python is straightforawrd using the `scipy` routines. However, most scipy routines uses equal spaced intervals to perform the integrals. If we have data stream in the (x,y) format where x is not equally spaced then we might have to write our own routines. These routines will be substantially slower than the ones that can be implemented in C++ but they integrate well if the rest of the analysis is done in pandas. Here, we will demonstrate how to perform numerical integration using trapezoid rule over intervals which are not equally spaced.\n",
    "\n",
    "We begin with demonstrating definite integrals of our chosen function so that we know the exact numerical values to expect.  \n",
    "\n",
    "Then we will perform the integral using scipy with equal-spaced intervals.  \n",
    "\n",
    "At the end we will generate a unequally spaced stream of (x,y) from our function and perform numerical integration on the function using trapezoidal rule.\n"
   ]
  },
  {
   "cell_type": "markdown",
   "metadata": {},
   "source": [
    "## Exact integration with Sagemath"
   ]
  },
  {
   "cell_type": "code",
   "execution_count": 1,
   "metadata": {},
   "outputs": [],
   "source": [
    "from sage.symbolic.integration.integral import definite_integral\n",
    "from sage.symbolic.integration.integral import indefinite_integral"
   ]
  },
  {
   "cell_type": "markdown",
   "metadata": {},
   "source": [
    "We will integrate the function $y(x) = 2x - 3x^2 + 0.5*x^4$ over the interval (3, 5). "
   ]
  },
  {
   "cell_type": "code",
   "execution_count": 11,
   "metadata": {},
   "outputs": [],
   "source": [
    "x = var('x')\n",
    "y = 2*x - 3*x*x + 0.5*x**4"
   ]
  },
  {
   "cell_type": "code",
   "execution_count": 12,
   "metadata": {},
   "outputs": [
    {
     "data": {
      "text/plain": [
       "0.1*x^5 - x^3 + x^2"
      ]
     },
     "execution_count": 12,
     "metadata": {},
     "output_type": "execute_result"
    }
   ],
   "source": [
    "y.integrate(x)"
   ]
  },
  {
   "cell_type": "code",
   "execution_count": 13,
   "metadata": {},
   "outputs": [
    {
     "data": {
      "text/plain": [
       "206.2"
      ]
     },
     "execution_count": 13,
     "metadata": {},
     "output_type": "execute_result"
    }
   ],
   "source": [
    "y.integrate(x, 3, 5)"
   ]
  },
  {
   "cell_type": "markdown",
   "metadata": {},
   "source": [
    "## Numerical integration with scipy"
   ]
  },
  {
   "cell_type": "markdown",
   "metadata": {},
   "source": [
    "Now that we know the exact answer, we will perform the same integration using `scipy`.   \n",
    "Note that the Sagemath portion of the code is run using the Sagemath kernel. The rest of the notebook will use Python 3 kernel. Sagemath will not be able to handle the pandas \n",
    "since it uses rings of integers instead of integer datatypes. "
   ]
  },
  {
   "cell_type": "code",
   "execution_count": 38,
   "metadata": {},
   "outputs": [],
   "source": [
    "import numpy as np\n",
    "import scipy as sp\n",
    "import scipy.integrate as integrate\n",
    "from matplotlib import pyplot as plt\n",
    "import pandas as pd"
   ]
  },
  {
   "cell_type": "code",
   "execution_count": 39,
   "metadata": {},
   "outputs": [],
   "source": [
    "def f(x):\n",
    "    y = 2*x - 3*x*x + 0.5*x**4\n",
    "    return y"
   ]
  },
  {
   "cell_type": "code",
   "execution_count": 40,
   "metadata": {},
   "outputs": [
    {
     "data": {
      "text/plain": [
       "(206.20000000000002, 2.2892798767770728e-12)"
      ]
     },
     "execution_count": 40,
     "metadata": {},
     "output_type": "execute_result"
    }
   ],
   "source": [
    "integrate.quad(lambda x: f(x), 3, 5)"
   ]
  },
  {
   "cell_type": "markdown",
   "metadata": {},
   "source": [
    "## Numerical integration with custom trapezoidal function using equal spacing"
   ]
  },
  {
   "cell_type": "markdown",
   "metadata": {},
   "source": [
    "First we genearte equally spaced x values and then generate the (x, y) series."
   ]
  },
  {
   "cell_type": "code",
   "execution_count": 46,
   "metadata": {},
   "outputs": [],
   "source": [
    "x = np.arange(0, 10, 0.25) \n",
    "y = 2*x - 3*x*x + 0.5*x**4"
   ]
  },
  {
   "cell_type": "code",
   "execution_count": 47,
   "metadata": {},
   "outputs": [],
   "source": [
    "def trapezoid(x, y, window=2, xstart=0, xend=10):\n",
    "    if len(x) != len(y):\n",
    "        return -1\n",
    "    df = pd.DataFrame({'x':x, 'y':y})\n",
    "    df = df[(df['x'] >= xstart) & (df['x'] <= xend)]\n",
    "    df['tr'] = df['y'].rolling(window=window).mean()\n",
    "    df['xdiff'] = df['x'].diff(periods=1)\n",
    "    df['integration'] = df['tr']*df['xdiff']   \n",
    "    df['integrationcumulative'] = df['integration'].cumsum()\n",
    "    result = df['integrationcumulative'].iloc[-1]\n",
    "    return result "
   ]
  },
  {
   "cell_type": "code",
   "execution_count": 48,
   "metadata": {},
   "outputs": [
    {
     "data": {
      "text/plain": [
       "207.158203125"
      ]
     },
     "execution_count": 48,
     "metadata": {},
     "output_type": "execute_result"
    }
   ],
   "source": [
    "trapezoid(x,y, xstart=3, xend=5, window=2)"
   ]
  },
  {
   "cell_type": "markdown",
   "metadata": {},
   "source": [
    "There is a slight error as out interval size is quite big. The error term can be exactly calulated but we will not discuss it here."
   ]
  },
  {
   "cell_type": "markdown",
   "metadata": {},
   "source": [
    "## Numerical integration with custom trapezoidal function using unequal spacing"
   ]
  },
  {
   "cell_type": "code",
   "execution_count": 49,
   "metadata": {},
   "outputs": [],
   "source": [
    "x = np.sort(np.random.random(1000)*10)\n",
    "y = 2*x - 3*x*x + 0.5*x**4"
   ]
  },
  {
   "cell_type": "code",
   "execution_count": 50,
   "metadata": {},
   "outputs": [
    {
     "data": {
      "text/plain": [
       "203.3448070434829"
      ]
     },
     "execution_count": 50,
     "metadata": {},
     "output_type": "execute_result"
    }
   ],
   "source": [
    "trapezoid(x,y, xstart=3, xend=5, window=2)"
   ]
  },
  {
   "cell_type": "markdown",
   "metadata": {},
   "source": [
    "The error is larger but the integration routine is quite stable."
   ]
  },
  {
   "cell_type": "code",
   "execution_count": null,
   "metadata": {},
   "outputs": [],
   "source": []
  }
 ],
 "metadata": {
  "kernelspec": {
   "display_name": "Python 3",
   "language": "python",
   "name": "python3"
  },
  "language_info": {
   "codemirror_mode": {
    "name": "ipython",
    "version": 3
   },
   "file_extension": ".py",
   "mimetype": "text/x-python",
   "name": "python",
   "nbconvert_exporter": "python",
   "pygments_lexer": "ipython3",
   "version": "3.8.5"
  }
 },
 "nbformat": 4,
 "nbformat_minor": 4
}
