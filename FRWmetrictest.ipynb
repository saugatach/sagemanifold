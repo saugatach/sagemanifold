{
 "cells": [
  {
   "cell_type": "code",
   "execution_count": 1,
   "metadata": {},
   "outputs": [],
   "source": [
    "# %display latex or plain or ascii_art or unicode_art\n",
    "reset()\n",
    "%display latex"
   ]
  },
  {
   "cell_type": "code",
   "execution_count": 2,
   "metadata": {},
   "outputs": [
    {
     "data": {
      "text/html": [
       "<html><script type=\"math/tex; mode=display\">\\newcommand{\\Bold}[1]{\\mathbf{#1}}M</script></html>"
      ],
      "text/plain": [
       "4-dimensional differentiable manifold M"
      ]
     },
     "execution_count": 2,
     "metadata": {},
     "output_type": "execute_result"
    }
   ],
   "source": [
    "M = Manifold(4,'M');M"
   ]
  },
  {
   "cell_type": "code",
   "execution_count": 3,
   "metadata": {},
   "outputs": [
    {
     "data": {
      "text/html": [
       "<html><script type=\"math/tex; mode=display\">\\newcommand{\\Bold}[1]{\\mathbf{#1}}\\left(M,(t, x, y, z)\\right)</script></html>"
      ],
      "text/plain": [
       "Chart (M, (t, x, y, z))"
      ]
     },
     "execution_count": 3,
     "metadata": {},
     "output_type": "execute_result"
    }
   ],
   "source": [
    "XS.<t,x,y,z> = M.chart(r't x y z');XS"
   ]
  },
  {
   "cell_type": "code",
   "execution_count": 4,
   "metadata": {},
   "outputs": [
    {
     "data": {
      "text/html": [
       "<html><script type=\"math/tex; mode=display\">\\newcommand{\\Bold}[1]{\\mathbf{#1}}t :\\ \\left( -\\infty, +\\infty \\right) ;\\quad x :\\ \\left( -\\infty, +\\infty \\right) ;\\quad y :\\ \\left( -\\infty, +\\infty \\right) ;\\quad z :\\ \\left( -\\infty, +\\infty \\right)</script></html>"
      ],
      "text/plain": [
       "t: (-oo, +oo); x: (-oo, +oo); y: (-oo, +oo); z: (-oo, +oo)"
      ]
     },
     "execution_count": 4,
     "metadata": {},
     "output_type": "execute_result"
    }
   ],
   "source": [
    "XS.coord_range()"
   ]
  },
  {
   "cell_type": "code",
   "execution_count": 5,
   "metadata": {},
   "outputs": [
    {
     "data": {
      "text/html": [
       "<html><script type=\"math/tex; mode=display\">\\newcommand{\\Bold}[1]{\\mathbf{#1}}a\\left(t\\right)</script></html>"
      ],
      "text/plain": [
       "a(t)"
      ]
     },
     "execution_count": 5,
     "metadata": {},
     "output_type": "execute_result"
    }
   ],
   "source": [
    "a=function('a')(t);a"
   ]
  },
  {
   "cell_type": "code",
   "execution_count": 6,
   "metadata": {},
   "outputs": [],
   "source": [
    "g = M.lorentzian_metric('g')\n",
    "g[0,0] = -1\n",
    "g[1,1] = a\n",
    "g[2,2] = a\n",
    "g[3,3] = a"
   ]
  },
  {
   "cell_type": "code",
   "execution_count": 7,
   "metadata": {},
   "outputs": [
    {
     "data": {
      "text/html": [
       "<html><script type=\"math/tex; mode=display\">\\newcommand{\\Bold}[1]{\\mathbf{#1}}g = -\\mathrm{d} t\\otimes \\mathrm{d} t + a\\left(t\\right) \\mathrm{d} x\\otimes \\mathrm{d} x + a\\left(t\\right) \\mathrm{d} y\\otimes \\mathrm{d} y + a\\left(t\\right) \\mathrm{d} z\\otimes \\mathrm{d} z</script></html>"
      ],
      "text/plain": [
       "g = -dt*dt + a(t) dx*dx + a(t) dy*dy + a(t) dz*dz"
      ]
     },
     "execution_count": 7,
     "metadata": {},
     "output_type": "execute_result"
    }
   ],
   "source": [
    "g.display()"
   ]
  },
  {
   "cell_type": "code",
   "execution_count": 8,
   "metadata": {},
   "outputs": [],
   "source": [
    "Rabcd = g.riemann().down(g)\n",
    "Rab = g.ricci()\n",
    "R = g.ricci_scalar()"
   ]
  },
  {
   "cell_type": "code",
   "execution_count": 9,
   "metadata": {},
   "outputs": [],
   "source": [
    "att = diff(a,t,t)\n",
    "at = diff(a,t)"
   ]
  },
  {
   "cell_type": "code",
   "execution_count": 10,
   "metadata": {},
   "outputs": [
    {
     "data": {
      "text/html": [
       "<html><script type=\"math/tex; mode=display\">\\newcommand{\\Bold}[1]{\\mathbf{#1}}\\frac{\\partial^{2}}{(\\partial t)^{2}}a\\left(t\\right)</script></html>"
      ],
      "text/plain": [
       "diff(a(t), t, t)"
      ]
     },
     "execution_count": 10,
     "metadata": {},
     "output_type": "execute_result"
    }
   ],
   "source": [
    "att"
   ]
  },
  {
   "cell_type": "code",
   "execution_count": 11,
   "metadata": {},
   "outputs": [
    {
     "data": {
      "text/html": [
       "<html><script type=\"math/tex; mode=display\">\\newcommand{\\Bold}[1]{\\mathbf{#1}}\\frac{\\partial}{\\partial t}a\\left(t\\right)</script></html>"
      ],
      "text/plain": [
       "diff(a(t), t)"
      ]
     },
     "execution_count": 11,
     "metadata": {},
     "output_type": "execute_result"
    }
   ],
   "source": [
    "at"
   ]
  },
  {
   "cell_type": "code",
   "execution_count": 12,
   "metadata": {},
   "outputs": [],
   "source": [
    "aprime = function(\"a'\")(t)\n",
    "adoubleprime = function(\"a''\")(t)"
   ]
  },
  {
   "cell_type": "code",
   "execution_count": 13,
   "metadata": {},
   "outputs": [
    {
     "data": {
      "text/html": [
       "<html><script type=\"math/tex; mode=display\">\\newcommand{\\Bold}[1]{\\mathbf{#1}}{\\rm a'}\\left(t\\right)</script></html>"
      ],
      "text/plain": [
       "a'(t)"
      ]
     },
     "execution_count": 13,
     "metadata": {},
     "output_type": "execute_result"
    }
   ],
   "source": [
    "aprime"
   ]
  },
  {
   "cell_type": "code",
   "execution_count": 14,
   "metadata": {},
   "outputs": [
    {
     "data": {
      "text/html": [
       "<html><script type=\"math/tex; mode=display\">\\newcommand{\\Bold}[1]{\\mathbf{#1}}{\\rm a''}\\left(t\\right)</script></html>"
      ],
      "text/plain": [
       "a''(t)"
      ]
     },
     "execution_count": 14,
     "metadata": {},
     "output_type": "execute_result"
    }
   ],
   "source": [
    "adoubleprime"
   ]
  },
  {
   "cell_type": "code",
   "execution_count": 15,
   "metadata": {},
   "outputs": [
    {
     "data": {
      "text/html": [
       "<html><script type=\"math/tex; mode=display\">\\newcommand{\\Bold}[1]{\\mathbf{#1}}\\mathrm{r}\\left(g\\right)</script></html>"
      ],
      "text/plain": [
       "Scalar field r(g) on the 4-dimensional differentiable manifold M"
      ]
     },
     "execution_count": 15,
     "metadata": {},
     "output_type": "execute_result"
    }
   ],
   "source": [
    "R.substitute({att:adoubleprime})"
   ]
  },
  {
   "cell_type": "code",
   "execution_count": 16,
   "metadata": {},
   "outputs": [
    {
     "data": {
      "text/html": [
       "<html><script type=\"math/tex; mode=display\">\\newcommand{\\Bold}[1]{\\mathbf{#1}}\\begin{array}{llcl} \\mathrm{r}\\left(g\\right):& M & \\longrightarrow & \\mathbb{R} \\\\ & \\left(t, x, y, z\\right) & \\longmapsto & \\frac{3 \\, \\frac{\\partial^2\\,a}{\\partial t ^ 2}}{a\\left(t\\right)} \\end{array}</script></html>"
      ],
      "text/plain": [
       "r(g): M --> R\n",
       "   (t, x, y, z) |--> 3*d^2(a)/dt^2/a(t)"
      ]
     },
     "execution_count": 16,
     "metadata": {},
     "output_type": "execute_result"
    }
   ],
   "source": [
    "R.display()"
   ]
  },
  {
   "cell_type": "code",
   "execution_count": 17,
   "metadata": {},
   "outputs": [
    {
     "data": {
      "text/html": [
       "<html><script type=\"math/tex; mode=display\">\\newcommand{\\Bold}[1]{\\mathbf{#1}}\\mathrm{Ric}\\left(g\\right) = \\frac{3 \\, {\\left(\\left(\\frac{\\partial\\,a}{\\partial t}\\right)^{2} - 2 \\, a\\left(t\\right) \\frac{\\partial^2\\,a}{\\partial t ^ 2}\\right)}}{4 \\, a\\left(t\\right)^{2}} \\mathrm{d} t\\otimes \\mathrm{d} t + \\left( \\frac{\\left(\\frac{\\partial\\,a}{\\partial t}\\right)^{2} + 2 \\, a\\left(t\\right) \\frac{\\partial^2\\,a}{\\partial t ^ 2}}{4 \\, a\\left(t\\right)} \\right) \\mathrm{d} x\\otimes \\mathrm{d} x + \\left( \\frac{\\left(\\frac{\\partial\\,a}{\\partial t}\\right)^{2} + 2 \\, a\\left(t\\right) \\frac{\\partial^2\\,a}{\\partial t ^ 2}}{4 \\, a\\left(t\\right)} \\right) \\mathrm{d} y\\otimes \\mathrm{d} y + \\left( \\frac{\\left(\\frac{\\partial\\,a}{\\partial t}\\right)^{2} + 2 \\, a\\left(t\\right) \\frac{\\partial^2\\,a}{\\partial t ^ 2}}{4 \\, a\\left(t\\right)} \\right) \\mathrm{d} z\\otimes \\mathrm{d} z</script></html>"
      ],
      "text/plain": [
       "Ric(g) = 3/4*((d(a)/dt)^2 - 2*a(t)*d^2(a)/dt^2)/a(t)^2 dt*dt + 1/4*((d(a)/dt)^2 + 2*a(t)*d^2(a)/dt^2)/a(t) dx*dx + 1/4*((d(a)/dt)^2 + 2*a(t)*d^2(a)/dt^2)/a(t) dy*dy + 1/4*((d(a)/dt)^2 + 2*a(t)*d^2(a)/dt^2)/a(t) dz*dz"
      ]
     },
     "execution_count": 17,
     "metadata": {},
     "output_type": "execute_result"
    }
   ],
   "source": [
    "Rab.display()"
   ]
  },
  {
   "cell_type": "code",
   "execution_count": 18,
   "metadata": {},
   "outputs": [
    {
     "data": {
      "text/html": [
       "<html><script type=\"math/tex; mode=display\">\\newcommand{\\Bold}[1]{\\mathbf{#1}}\\left( \\frac{\\left(\\frac{\\partial\\,a}{\\partial t}\\right)^{2} - 2 \\, a\\left(t\\right) \\frac{\\partial^2\\,a}{\\partial t ^ 2}}{4 \\, a\\left(t\\right)} \\right) \\mathrm{d} t\\otimes \\mathrm{d} x\\otimes \\mathrm{d} t\\otimes \\mathrm{d} x + \\left( -\\frac{\\left(\\frac{\\partial\\,a}{\\partial t}\\right)^{2} - 2 \\, a\\left(t\\right) \\frac{\\partial^2\\,a}{\\partial t ^ 2}}{4 \\, a\\left(t\\right)} \\right) \\mathrm{d} t\\otimes \\mathrm{d} x\\otimes \\mathrm{d} x\\otimes \\mathrm{d} t + \\left( \\frac{\\left(\\frac{\\partial\\,a}{\\partial t}\\right)^{2} - 2 \\, a\\left(t\\right) \\frac{\\partial^2\\,a}{\\partial t ^ 2}}{4 \\, a\\left(t\\right)} \\right) \\mathrm{d} t\\otimes \\mathrm{d} y\\otimes \\mathrm{d} t\\otimes \\mathrm{d} y + \\left( -\\frac{\\left(\\frac{\\partial\\,a}{\\partial t}\\right)^{2} - 2 \\, a\\left(t\\right) \\frac{\\partial^2\\,a}{\\partial t ^ 2}}{4 \\, a\\left(t\\right)} \\right) \\mathrm{d} t\\otimes \\mathrm{d} y\\otimes \\mathrm{d} y\\otimes \\mathrm{d} t + \\left( \\frac{\\left(\\frac{\\partial\\,a}{\\partial t}\\right)^{2} - 2 \\, a\\left(t\\right) \\frac{\\partial^2\\,a}{\\partial t ^ 2}}{4 \\, a\\left(t\\right)} \\right) \\mathrm{d} t\\otimes \\mathrm{d} z\\otimes \\mathrm{d} t\\otimes \\mathrm{d} z + \\left( -\\frac{\\left(\\frac{\\partial\\,a}{\\partial t}\\right)^{2} - 2 \\, a\\left(t\\right) \\frac{\\partial^2\\,a}{\\partial t ^ 2}}{4 \\, a\\left(t\\right)} \\right) \\mathrm{d} t\\otimes \\mathrm{d} z\\otimes \\mathrm{d} z\\otimes \\mathrm{d} t + \\left( -\\frac{\\left(\\frac{\\partial\\,a}{\\partial t}\\right)^{2} - 2 \\, a\\left(t\\right) \\frac{\\partial^2\\,a}{\\partial t ^ 2}}{4 \\, a\\left(t\\right)} \\right) \\mathrm{d} x\\otimes \\mathrm{d} t\\otimes \\mathrm{d} t\\otimes \\mathrm{d} x + \\left( \\frac{\\left(\\frac{\\partial\\,a}{\\partial t}\\right)^{2} - 2 \\, a\\left(t\\right) \\frac{\\partial^2\\,a}{\\partial t ^ 2}}{4 \\, a\\left(t\\right)} \\right) \\mathrm{d} x\\otimes \\mathrm{d} t\\otimes \\mathrm{d} x\\otimes \\mathrm{d} t + \\frac{1}{4} \\, \\left(\\frac{\\partial\\,a}{\\partial t}\\right)^{2} \\mathrm{d} x\\otimes \\mathrm{d} y\\otimes \\mathrm{d} x\\otimes \\mathrm{d} y -\\frac{1}{4} \\, \\left(\\frac{\\partial\\,a}{\\partial t}\\right)^{2} \\mathrm{d} x\\otimes \\mathrm{d} y\\otimes \\mathrm{d} y\\otimes \\mathrm{d} x + \\frac{1}{4} \\, \\left(\\frac{\\partial\\,a}{\\partial t}\\right)^{2} \\mathrm{d} x\\otimes \\mathrm{d} z\\otimes \\mathrm{d} x\\otimes \\mathrm{d} z -\\frac{1}{4} \\, \\left(\\frac{\\partial\\,a}{\\partial t}\\right)^{2} \\mathrm{d} x\\otimes \\mathrm{d} z\\otimes \\mathrm{d} z\\otimes \\mathrm{d} x + \\left( -\\frac{\\left(\\frac{\\partial\\,a}{\\partial t}\\right)^{2} - 2 \\, a\\left(t\\right) \\frac{\\partial^2\\,a}{\\partial t ^ 2}}{4 \\, a\\left(t\\right)} \\right) \\mathrm{d} y\\otimes \\mathrm{d} t\\otimes \\mathrm{d} t\\otimes \\mathrm{d} y + \\left( \\frac{\\left(\\frac{\\partial\\,a}{\\partial t}\\right)^{2} - 2 \\, a\\left(t\\right) \\frac{\\partial^2\\,a}{\\partial t ^ 2}}{4 \\, a\\left(t\\right)} \\right) \\mathrm{d} y\\otimes \\mathrm{d} t\\otimes \\mathrm{d} y\\otimes \\mathrm{d} t -\\frac{1}{4} \\, \\left(\\frac{\\partial\\,a}{\\partial t}\\right)^{2} \\mathrm{d} y\\otimes \\mathrm{d} x\\otimes \\mathrm{d} x\\otimes \\mathrm{d} y + \\frac{1}{4} \\, \\left(\\frac{\\partial\\,a}{\\partial t}\\right)^{2} \\mathrm{d} y\\otimes \\mathrm{d} x\\otimes \\mathrm{d} y\\otimes \\mathrm{d} x + \\frac{1}{4} \\, \\left(\\frac{\\partial\\,a}{\\partial t}\\right)^{2} \\mathrm{d} y\\otimes \\mathrm{d} z\\otimes \\mathrm{d} y\\otimes \\mathrm{d} z -\\frac{1}{4} \\, \\left(\\frac{\\partial\\,a}{\\partial t}\\right)^{2} \\mathrm{d} y\\otimes \\mathrm{d} z\\otimes \\mathrm{d} z\\otimes \\mathrm{d} y + \\left( -\\frac{\\left(\\frac{\\partial\\,a}{\\partial t}\\right)^{2} - 2 \\, a\\left(t\\right) \\frac{\\partial^2\\,a}{\\partial t ^ 2}}{4 \\, a\\left(t\\right)} \\right) \\mathrm{d} z\\otimes \\mathrm{d} t\\otimes \\mathrm{d} t\\otimes \\mathrm{d} z + \\left( \\frac{\\left(\\frac{\\partial\\,a}{\\partial t}\\right)^{2} - 2 \\, a\\left(t\\right) \\frac{\\partial^2\\,a}{\\partial t ^ 2}}{4 \\, a\\left(t\\right)} \\right) \\mathrm{d} z\\otimes \\mathrm{d} t\\otimes \\mathrm{d} z\\otimes \\mathrm{d} t -\\frac{1}{4} \\, \\left(\\frac{\\partial\\,a}{\\partial t}\\right)^{2} \\mathrm{d} z\\otimes \\mathrm{d} x\\otimes \\mathrm{d} x\\otimes \\mathrm{d} z + \\frac{1}{4} \\, \\left(\\frac{\\partial\\,a}{\\partial t}\\right)^{2} \\mathrm{d} z\\otimes \\mathrm{d} x\\otimes \\mathrm{d} z\\otimes \\mathrm{d} x -\\frac{1}{4} \\, \\left(\\frac{\\partial\\,a}{\\partial t}\\right)^{2} \\mathrm{d} z\\otimes \\mathrm{d} y\\otimes \\mathrm{d} y\\otimes \\mathrm{d} z + \\frac{1}{4} \\, \\left(\\frac{\\partial\\,a}{\\partial t}\\right)^{2} \\mathrm{d} z\\otimes \\mathrm{d} y\\otimes \\mathrm{d} z\\otimes \\mathrm{d} y</script></html>"
      ],
      "text/plain": [
       "1/4*((d(a)/dt)^2 - 2*a(t)*d^2(a)/dt^2)/a(t) dt*dx*dt*dx - 1/4*((d(a)/dt)^2 - 2*a(t)*d^2(a)/dt^2)/a(t) dt*dx*dx*dt + 1/4*((d(a)/dt)^2 - 2*a(t)*d^2(a)/dt^2)/a(t) dt*dy*dt*dy - 1/4*((d(a)/dt)^2 - 2*a(t)*d^2(a)/dt^2)/a(t) dt*dy*dy*dt + 1/4*((d(a)/dt)^2 - 2*a(t)*d^2(a)/dt^2)/a(t) dt*dz*dt*dz - 1/4*((d(a)/dt)^2 - 2*a(t)*d^2(a)/dt^2)/a(t) dt*dz*dz*dt - 1/4*((d(a)/dt)^2 - 2*a(t)*d^2(a)/dt^2)/a(t) dx*dt*dt*dx + 1/4*((d(a)/dt)^2 - 2*a(t)*d^2(a)/dt^2)/a(t) dx*dt*dx*dt + 1/4*(d(a)/dt)^2 dx*dy*dx*dy - 1/4*(d(a)/dt)^2 dx*dy*dy*dx + 1/4*(d(a)/dt)^2 dx*dz*dx*dz - 1/4*(d(a)/dt)^2 dx*dz*dz*dx - 1/4*((d(a)/dt)^2 - 2*a(t)*d^2(a)/dt^2)/a(t) dy*dt*dt*dy + 1/4*((d(a)/dt)^2 - 2*a(t)*d^2(a)/dt^2)/a(t) dy*dt*dy*dt - 1/4*(d(a)/dt)^2 dy*dx*dx*dy + 1/4*(d(a)/dt)^2 dy*dx*dy*dx + 1/4*(d(a)/dt)^2 dy*dz*dy*dz - 1/4*(d(a)/dt)^2 dy*dz*dz*dy - 1/4*((d(a)/dt)^2 - 2*a(t)*d^2(a)/dt^2)/a(t) dz*dt*dt*dz + 1/4*((d(a)/dt)^2 - 2*a(t)*d^2(a)/dt^2)/a(t) dz*dt*dz*dt - 1/4*(d(a)/dt)^2 dz*dx*dx*dz + 1/4*(d(a)/dt)^2 dz*dx*dz*dx - 1/4*(d(a)/dt)^2 dz*dy*dy*dz + 1/4*(d(a)/dt)^2 dz*dy*dz*dy"
      ]
     },
     "execution_count": 18,
     "metadata": {},
     "output_type": "execute_result"
    }
   ],
   "source": [
    "Rabcd.display()"
   ]
  },
  {
   "cell_type": "code",
   "execution_count": 19,
   "metadata": {},
   "outputs": [
    {
     "data": {
      "text/html": [
       "<html><script type=\"math/tex; mode=display\">\\newcommand{\\Bold}[1]{\\mathbf{#1}}\\left(\\begin{array}{rrrr}\n",
       "\\frac{3 \\, {\\left(\\frac{\\partial}{\\partial t}a\\left(t\\right)^{2} - 2 \\, a\\left(t\\right) \\frac{\\partial^{2}}{(\\partial t)^{2}}a\\left(t\\right)\\right)}}{4 \\, a\\left(t\\right)^{2}} & 0 & 0 & 0 \\\\\n",
       "0 & \\frac{\\frac{\\partial}{\\partial t}a\\left(t\\right)^{2} + 2 \\, a\\left(t\\right) \\frac{\\partial^{2}}{(\\partial t)^{2}}a\\left(t\\right)}{4 \\, a\\left(t\\right)} & 0 & 0 \\\\\n",
       "0 & 0 & \\frac{\\frac{\\partial}{\\partial t}a\\left(t\\right)^{2} + 2 \\, a\\left(t\\right) \\frac{\\partial^{2}}{(\\partial t)^{2}}a\\left(t\\right)}{4 \\, a\\left(t\\right)} & 0 \\\\\n",
       "0 & 0 & 0 & \\frac{\\frac{\\partial}{\\partial t}a\\left(t\\right)^{2} + 2 \\, a\\left(t\\right) \\frac{\\partial^{2}}{(\\partial t)^{2}}a\\left(t\\right)}{4 \\, a\\left(t\\right)}\n",
       "\\end{array}\\right)</script></html>"
      ],
      "text/plain": [
       "[3/4*(diff(a(t), t)^2 - 2*a(t)*diff(a(t), t, t))/a(t)^2                                                      0                                                      0                                                      0]\n",
       "[                                                     0   1/4*(diff(a(t), t)^2 + 2*a(t)*diff(a(t), t, t))/a(t)                                                      0                                                      0]\n",
       "[                                                     0                                                      0   1/4*(diff(a(t), t)^2 + 2*a(t)*diff(a(t), t, t))/a(t)                                                      0]\n",
       "[                                                     0                                                      0                                                      0   1/4*(diff(a(t), t)^2 + 2*a(t)*diff(a(t), t, t))/a(t)]"
      ]
     },
     "execution_count": 19,
     "metadata": {},
     "output_type": "execute_result"
    }
   ],
   "source": [
    "Rab[:]"
   ]
  },
  {
   "cell_type": "code",
   "execution_count": 20,
   "metadata": {},
   "outputs": [
    {
     "data": {
      "text/html": [
       "<html><script type=\"math/tex; mode=display\">\\newcommand{\\Bold}[1]{\\mathbf{#1}}\\frac{\\left(\\frac{\\partial\\,a}{\\partial t}\\right)^{2} - 2 \\, a\\left(t\\right) \\frac{\\partial^2\\,a}{\\partial t ^ 2}}{4 \\, a\\left(t\\right)}</script></html>"
      ],
      "text/plain": [
       "1/4*((d(a)/dt)^2 - 2*a(t)*d^2(a)/dt^2)/a(t)"
      ]
     },
     "execution_count": 20,
     "metadata": {},
     "output_type": "execute_result"
    }
   ],
   "source": [
    "Rabcd[0,1,0,1]"
   ]
  },
  {
   "cell_type": "code",
   "execution_count": 21,
   "metadata": {},
   "outputs": [
    {
     "data": {
      "text/html": [
       "<html><script type=\"math/tex; mode=display\">\\newcommand{\\Bold}[1]{\\mathbf{#1}}\\frac{1}{4} \\, \\left(\\frac{\\partial\\,a}{\\partial t}\\right)^{2}</script></html>"
      ],
      "text/plain": [
       "1/4*(d(a)/dt)^2"
      ]
     },
     "execution_count": 21,
     "metadata": {},
     "output_type": "execute_result"
    }
   ],
   "source": [
    "Rabcd[2,3,2,3]"
   ]
  },
  {
   "cell_type": "markdown",
   "metadata": {},
   "source": [
    "## Kretschmann scalar"
   ]
  },
  {
   "cell_type": "code",
   "execution_count": 22,
   "metadata": {},
   "outputs": [],
   "source": [
    "K=Rabcd.down(g)['_{abcd}']*Rabcd.up(g)['^{abcd}']"
   ]
  },
  {
   "cell_type": "code",
   "execution_count": 23,
   "metadata": {},
   "outputs": [
    {
     "data": {
      "text/html": [
       "<html><script type=\"math/tex; mode=display\">\\newcommand{\\Bold}[1]{\\mathbf{#1}}\\begin{array}{llcl} & M & \\longrightarrow & \\mathbb{R} \\\\ & \\left(t, x, y, z\\right) & \\longmapsto & \\frac{3 \\, {\\left(\\left(\\frac{\\partial\\,a}{\\partial t}\\right)^{4} - 2 \\, a\\left(t\\right) \\left(\\frac{\\partial\\,a}{\\partial t}\\right)^{2} \\frac{\\partial^2\\,a}{\\partial t ^ 2} + 2 \\, a\\left(t\\right)^{2} \\frac{\\partial^2\\,a}{\\partial t ^ 2}^{2}\\right)}}{2 \\, a\\left(t\\right)^{4}} \\end{array}</script></html>"
      ],
      "text/plain": [
       "M --> R\n",
       "(t, x, y, z) |--> 3/2*((d(a)/dt)^4 - 2*a(t)*(d(a)/dt)^2*d^2(a)/dt^2 + 2*a(t)^2*d^2(a)/dt^2^2)/a(t)^4"
      ]
     },
     "execution_count": 23,
     "metadata": {},
     "output_type": "execute_result"
    }
   ],
   "source": [
    "K.display()"
   ]
  },
  {
   "cell_type": "code",
   "execution_count": 24,
   "metadata": {},
   "outputs": [
    {
     "data": {
      "text/html": [
       "<html><script type=\"math/tex; mode=display\">\\newcommand{\\Bold}[1]{\\mathbf{#1}}\\left(M,(t, r, {\\theta}, {\\phi})\\right)</script></html>"
      ],
      "text/plain": [
       "Chart (M, (t, r, th, phi))"
      ]
     },
     "execution_count": 24,
     "metadata": {},
     "output_type": "execute_result"
    }
   ],
   "source": [
    "reset('XR')\n",
    "XR.<t,r,th,phi> = M.chart(r't r:(0,+oo) th:(0,pi):\\theta phi:(0,2*pi):\\phi');XR"
   ]
  },
  {
   "cell_type": "code",
   "execution_count": 25,
   "metadata": {},
   "outputs": [
    {
     "data": {
      "text/html": [
       "<html><script type=\"math/tex; mode=display\">\\newcommand{\\Bold}[1]{\\mathbf{#1}}t :\\ \\left( -\\infty, +\\infty \\right) ;\\quad r :\\ \\left( 0 , +\\infty \\right) ;\\quad {\\theta} :\\ \\left( 0 , \\pi \\right) ;\\quad {\\phi} :\\ \\left( 0 , 2 \\, \\pi \\right)</script></html>"
      ],
      "text/plain": [
       "t: (-oo, +oo); r: (0, +oo); th: (0, pi); phi: (0, 2*pi)"
      ]
     },
     "execution_count": 25,
     "metadata": {},
     "output_type": "execute_result"
    }
   ],
   "source": [
    "XR.coord_range()"
   ]
  },
  {
   "cell_type": "code",
   "execution_count": 26,
   "metadata": {},
   "outputs": [],
   "source": [
    "XS_to_XR = XS.transition_map(XR,[t, sqrt(x^2 + y^2 + z^2), arctan(z/sqrt(x^2 + y^2)), arctan(y/x)])"
   ]
  },
  {
   "cell_type": "code",
   "execution_count": 27,
   "metadata": {},
   "outputs": [],
   "source": [
    "XS_to_XR.set_inverse(t,r*sin(th)*cos(phi),r*sin(th)*sin(phi),r*cos(th))"
   ]
  },
  {
   "cell_type": "code",
   "execution_count": 28,
   "metadata": {},
   "outputs": [
    {
     "data": {
      "text/html": [
       "<html><script type=\"math/tex; mode=display\">\\newcommand{\\Bold}[1]{\\mathbf{#1}}\\left\\{\\begin{array}{lcl} t & = & t \\\\ r & = & \\sqrt{x^{2} + y^{2} + z^{2}} \\\\ {\\theta} & = & \\arctan\\left(\\frac{z}{\\sqrt{x^{2} + y^{2}}}\\right) \\\\ {\\phi} & = & \\arctan\\left(\\frac{y}{x}\\right) \\end{array}\\right.</script></html>"
      ],
      "text/plain": [
       "t = t\n",
       "r = sqrt(x^2 + y^2 + z^2)\n",
       "th = arctan(z/sqrt(x^2 + y^2))\n",
       "phi = arctan(y/x)"
      ]
     },
     "execution_count": 28,
     "metadata": {},
     "output_type": "execute_result"
    }
   ],
   "source": [
    "XS_to_XR.disp()"
   ]
  },
  {
   "cell_type": "code",
   "execution_count": 29,
   "metadata": {},
   "outputs": [
    {
     "data": {
      "text/html": [
       "<html><script type=\"math/tex; mode=display\">\\newcommand{\\Bold}[1]{\\mathbf{#1}}\\left\\{\\begin{array}{lcl} t & = & t \\\\ x & = & r \\cos\\left({\\phi}\\right) \\sin\\left({\\theta}\\right) \\\\ y & = & r \\sin\\left({\\phi}\\right) \\sin\\left({\\theta}\\right) \\\\ z & = & r \\cos\\left({\\theta}\\right) \\end{array}\\right.</script></html>"
      ],
      "text/plain": [
       "t = t\n",
       "x = r*cos(phi)*sin(th)\n",
       "y = r*sin(phi)*sin(th)\n",
       "z = r*cos(th)"
      ]
     },
     "execution_count": 29,
     "metadata": {},
     "output_type": "execute_result"
    }
   ],
   "source": [
    "XS_to_XR.inverse().disp()"
   ]
  },
  {
   "cell_type": "code",
   "execution_count": 30,
   "metadata": {},
   "outputs": [
    {
     "data": {
      "text/html": [
       "<html><script type=\"math/tex; mode=display\">\\newcommand{\\Bold}[1]{\\mathbf{#1}}g = -\\mathrm{d} t\\otimes \\mathrm{d} t + a\\left(t\\right) \\mathrm{d} r\\otimes \\mathrm{d} r + r^{2} a\\left(t\\right) \\mathrm{d} {\\theta}\\otimes \\mathrm{d} {\\theta} + r^{2} a\\left(t\\right) \\sin\\left({\\theta}\\right)^{2} \\mathrm{d} {\\phi}\\otimes \\mathrm{d} {\\phi}</script></html>"
      ],
      "text/plain": [
       "g = -dt*dt + a(t) dr*dr + r^2*a(t) dth*dth + r^2*a(t)*sin(th)^2 dphi*dphi"
      ]
     },
     "execution_count": 30,
     "metadata": {},
     "output_type": "execute_result"
    }
   ],
   "source": [
    "g.disp(XR.frame(),XR)"
   ]
  },
  {
   "cell_type": "code",
   "execution_count": 31,
   "metadata": {},
   "outputs": [
    {
     "data": {
      "text/html": [
       "<html><script type=\"math/tex; mode=display\">\\newcommand{\\Bold}[1]{\\mathbf{#1}}\\left(M,(u, v, y, z)\\right)</script></html>"
      ],
      "text/plain": [
       "Chart (M, (u, v, y, z))"
      ]
     },
     "execution_count": 31,
     "metadata": {},
     "output_type": "execute_result"
    }
   ],
   "source": [
    "XM.<u,v,y,z>=M.chart(r'u v y z')\n",
    "XM.add_restrictions(v-u>0)\n",
    "XM"
   ]
  },
  {
   "cell_type": "code",
   "execution_count": 32,
   "metadata": {},
   "outputs": [
    {
     "data": {
      "text/html": [
       "<html><script type=\"math/tex; mode=display\">\\newcommand{\\Bold}[1]{\\mathbf{#1}}u :\\ \\left( -\\infty, +\\infty \\right) ;\\quad v :\\ \\left( -\\infty, +\\infty \\right) ;\\quad y :\\ \\left( -\\infty, +\\infty \\right) ;\\quad z :\\ \\left( -\\infty, +\\infty \\right)</script></html>"
      ],
      "text/plain": [
       "u: (-oo, +oo); v: (-oo, +oo); y: (-oo, +oo); z: (-oo, +oo)"
      ]
     },
     "execution_count": 32,
     "metadata": {},
     "output_type": "execute_result"
    }
   ],
   "source": [
    "XM.coord_range()"
   ]
  },
  {
   "cell_type": "code",
   "execution_count": 33,
   "metadata": {},
   "outputs": [],
   "source": [
    "XS_to_XM = XS.transition_map(XM,[t-x, t+x, y, z])"
   ]
  },
  {
   "cell_type": "code",
   "execution_count": 34,
   "metadata": {},
   "outputs": [
    {
     "data": {
      "text/html": [
       "<html><script type=\"math/tex; mode=display\">\\newcommand{\\Bold}[1]{\\mathbf{#1}}\\left\\{\\begin{array}{lcl} u & = & t - x \\\\ v & = & t + x \\\\ y & = & y \\\\ z & = & z \\end{array}\\right.</script></html>"
      ],
      "text/plain": [
       "u = t - x\n",
       "v = t + x\n",
       "y = y\n",
       "z = z"
      ]
     },
     "execution_count": 34,
     "metadata": {},
     "output_type": "execute_result"
    }
   ],
   "source": [
    "XS_to_XM.display()"
   ]
  },
  {
   "cell_type": "code",
   "execution_count": 35,
   "metadata": {},
   "outputs": [
    {
     "data": {
      "text/html": [
       "<html><script type=\"math/tex; mode=display\">\\newcommand{\\Bold}[1]{\\mathbf{#1}}\\left\\{\\begin{array}{lcl} t & = & \\frac{1}{2} \\, u + \\frac{1}{2} \\, v \\\\ x & = & -\\frac{1}{2} \\, u + \\frac{1}{2} \\, v \\\\ y & = & y \\\\ z & = & z \\end{array}\\right.</script></html>"
      ],
      "text/plain": [
       "t = 1/2*u + 1/2*v\n",
       "x = -1/2*u + 1/2*v\n",
       "y = y\n",
       "z = z"
      ]
     },
     "execution_count": 35,
     "metadata": {},
     "output_type": "execute_result"
    }
   ],
   "source": [
    "XS_to_XM.inverse().display()"
   ]
  },
  {
   "cell_type": "code",
   "execution_count": 36,
   "metadata": {},
   "outputs": [
    {
     "data": {
      "text/html": [
       "<html><script type=\"math/tex; mode=display\">\\newcommand{\\Bold}[1]{\\mathbf{#1}}g = \\left( \\frac{1}{4} \\, a\\left(\\frac{1}{2} \\, u + \\frac{1}{2} \\, v\\right) - \\frac{1}{4} \\right) \\mathrm{d} u\\otimes \\mathrm{d} u + \\left( -\\frac{1}{4} \\, a\\left(\\frac{1}{2} \\, u + \\frac{1}{2} \\, v\\right) - \\frac{1}{4} \\right) \\mathrm{d} u\\otimes \\mathrm{d} v + \\left( -\\frac{1}{4} \\, a\\left(\\frac{1}{2} \\, u + \\frac{1}{2} \\, v\\right) - \\frac{1}{4} \\right) \\mathrm{d} v\\otimes \\mathrm{d} u + \\left( \\frac{1}{4} \\, a\\left(\\frac{1}{2} \\, u + \\frac{1}{2} \\, v\\right) - \\frac{1}{4} \\right) \\mathrm{d} v\\otimes \\mathrm{d} v + a\\left(\\frac{1}{2} \\, u + \\frac{1}{2} \\, v\\right) \\mathrm{d} y\\otimes \\mathrm{d} y + a\\left(\\frac{1}{2} \\, u + \\frac{1}{2} \\, v\\right) \\mathrm{d} z\\otimes \\mathrm{d} z</script></html>"
      ],
      "text/plain": [
       "g = (1/4*a(1/2*u + 1/2*v) - 1/4) du*du + (-1/4*a(1/2*u + 1/2*v) - 1/4) du*dv + (-1/4*a(1/2*u + 1/2*v) - 1/4) dv*du + (1/4*a(1/2*u + 1/2*v) - 1/4) dv*dv + a(1/2*u + 1/2*v) dy*dy + a(1/2*u + 1/2*v) dz*dz"
      ]
     },
     "execution_count": 36,
     "metadata": {},
     "output_type": "execute_result"
    }
   ],
   "source": [
    "g.disp(XM.frame(),XM)"
   ]
  },
  {
   "cell_type": "markdown",
   "metadata": {},
   "source": [
    "## Verify FRW is conformally flat"
   ]
  },
  {
   "cell_type": "code",
   "execution_count": 37,
   "metadata": {},
   "outputs": [],
   "source": [
    "C = g.weyl()"
   ]
  },
  {
   "cell_type": "code",
   "execution_count": 38,
   "metadata": {},
   "outputs": [
    {
     "data": {
      "text/html": [
       "<html><script type=\"math/tex; mode=display\">\\newcommand{\\Bold}[1]{\\mathbf{#1}}\\mathrm{C}\\left(g\\right) = 0</script></html>"
      ],
      "text/plain": [
       "C(g) = 0"
      ]
     },
     "execution_count": 38,
     "metadata": {},
     "output_type": "execute_result"
    }
   ],
   "source": [
    "C.disp()"
   ]
  },
  {
   "cell_type": "markdown",
   "metadata": {},
   "source": [
    "#### Evaluate FRW for $a(t) = e^{k t}$"
   ]
  },
  {
   "cell_type": "code",
   "execution_count": 41,
   "metadata": {},
   "outputs": [],
   "source": [
    "k = var('k')\n",
    "assume(k>0)"
   ]
  },
  {
   "cell_type": "code",
   "execution_count": 42,
   "metadata": {},
   "outputs": [
    {
     "data": {
      "text/html": [
       "<html><script type=\"math/tex; mode=display\">\\newcommand{\\Bold}[1]{\\mathbf{#1}}g = -\\mathrm{d} t\\otimes \\mathrm{d} t + a\\left(t\\right) \\mathrm{d} x\\otimes \\mathrm{d} x + a\\left(t\\right) \\mathrm{d} y\\otimes \\mathrm{d} y + a\\left(t\\right) \\mathrm{d} z\\otimes \\mathrm{d} z</script></html>"
      ],
      "text/plain": [
       "g = -dt*dt + a(t) dx*dx + a(t) dy*dy + a(t) dz*dz"
      ]
     },
     "execution_count": 42,
     "metadata": {},
     "output_type": "execute_result"
    }
   ],
   "source": [
    "g.disp()"
   ]
  },
  {
   "cell_type": "code",
   "execution_count": 48,
   "metadata": {},
   "outputs": [
    {
     "data": {
      "text/html": [
       "<html><script type=\"math/tex; mode=display\">\\newcommand{\\Bold}[1]{\\mathbf{#1}}g = -\\mathrm{d} t\\otimes \\mathrm{d} t + e^{\\left(k t\\right)} \\mathrm{d} x\\otimes \\mathrm{d} x + e^{\\left(k t\\right)} \\mathrm{d} y\\otimes \\mathrm{d} y + e^{\\left(k t\\right)} \\mathrm{d} z\\otimes \\mathrm{d} z</script></html>"
      ],
      "text/plain": [
       "g = -dt*dt + e^(k*t) dx*dx + e^(k*t) dy*dy + e^(k*t) dz*dz"
      ]
     },
     "execution_count": 48,
     "metadata": {},
     "output_type": "execute_result"
    }
   ],
   "source": [
    "for i in range(4):\n",
    "    g[i,i] = g[i,i](t,x,y,z).subs({a:exp(k* t)}).expand()\n",
    "g.disp()"
   ]
  },
  {
   "cell_type": "code",
   "execution_count": 49,
   "metadata": {},
   "outputs": [
    {
     "data": {
      "text/html": [
       "<html><script type=\"math/tex; mode=display\">\\newcommand{\\Bold}[1]{\\mathbf{#1}}\\mathrm{Ric}\\left(g\\right) = -\\frac{3}{4} \\, k^{2} \\mathrm{d} t\\otimes \\mathrm{d} t + \\frac{3}{4} \\, k^{2} e^{\\left(k t\\right)} \\mathrm{d} x\\otimes \\mathrm{d} x + \\frac{3}{4} \\, k^{2} e^{\\left(k t\\right)} \\mathrm{d} y\\otimes \\mathrm{d} y + \\frac{3}{4} \\, k^{2} e^{\\left(k t\\right)} \\mathrm{d} z\\otimes \\mathrm{d} z</script></html>"
      ],
      "text/plain": [
       "Ric(g) = -3/4*k^2 dt*dt + 3/4*k^2*e^(k*t) dx*dx + 3/4*k^2*e^(k*t) dy*dy + 3/4*k^2*e^(k*t) dz*dz"
      ]
     },
     "execution_count": 49,
     "metadata": {},
     "output_type": "execute_result"
    }
   ],
   "source": [
    "g.ricci().disp()"
   ]
  },
  {
   "cell_type": "code",
   "execution_count": 50,
   "metadata": {},
   "outputs": [
    {
     "data": {
      "text/html": [
       "<html><script type=\"math/tex; mode=display\">\\newcommand{\\Bold}[1]{\\mathbf{#1}}\\begin{array}{llcl} \\mathrm{r}\\left(g\\right):& M & \\longrightarrow & \\mathbb{R} \\\\ & \\left(t, x, y, z\\right) & \\longmapsto & 3 \\, k^{2} \\\\ & \\left(t, r, {\\theta}, {\\phi}\\right) & \\longmapsto & 3 \\, k^{2} \\\\ & \\left(u, v, y, z\\right) & \\longmapsto & 3 \\, k^{2} \\end{array}</script></html>"
      ],
      "text/plain": [
       "r(g): M --> R\n",
       "   (t, x, y, z) |--> 3*k^2\n",
       "   (t, r, th, phi) |--> 3*k^2\n",
       "   (u, v, y, z) |--> 3*k^2"
      ]
     },
     "execution_count": 50,
     "metadata": {},
     "output_type": "execute_result"
    }
   ],
   "source": [
    "g.ricci_scalar().disp()"
   ]
  }
 ],
 "metadata": {
  "kernelspec": {
   "display_name": "SageMath 8.1",
   "language": "",
   "name": "sagemath"
  },
  "language_info": {
   "codemirror_mode": {
    "name": "ipython",
    "version": 2
   },
   "file_extension": ".py",
   "mimetype": "text/x-python",
   "name": "python",
   "nbconvert_exporter": "python",
   "pygments_lexer": "ipython2",
   "version": "2.7.15+"
  }
 },
 "nbformat": 4,
 "nbformat_minor": 2
}
