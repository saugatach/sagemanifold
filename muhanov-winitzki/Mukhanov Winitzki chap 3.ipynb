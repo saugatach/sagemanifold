{
 "cells": [
  {
   "cell_type": "markdown",
   "metadata": {},
   "source": [
    "# Mukhanov Winizki QFT in curved spacetime \n",
    "## Chapter3\n",
    "### Quantum Harmonic Oscillator\n",
    "\n",
    "$[a,a'] = 1$ <br>\n",
    "$H = a'a + 1/2$  <br>\n",
    "$ H |n \\rangle = E_n |n \\rangle $  <br>\n",
    "$ [a, H] = [a, a'a + 1/2] = [a,a'a] = aa'a - a'aa = [a,a']a = a \\Rightarrow Ha = aH - a $\n",
    "\n",
    "Therefore\n",
    "\n",
    "$ H a |n \\rangle = (aH - a) |n \\rangle = a E_n |n \\rangle - a  |n \\rangle  = (E_n - 1 ){ a |n \\rangle } $. But $ H |n-1 \\rangle = (E_n-1) |n-1 \\rangle $. \n",
    "\n",
    "This implies a is annihilation operator which lowers a state. \n",
    "\n",
    "The creation and annihilation operators raise and lower states.\n",
    "\n",
    "$ a |n \\rangle = c_n |n - 1 \\rangle $  <br>\n",
    "$ a' |n \\rangle = c_n |n + 1 \\rangle $  <br>\n",
    "\n",
    "The nergy levels are obtained as follows.\n",
    "\n",
    "$ a' |0 \\rangle = d_n |1 \\rangle  $\n",
    "\n",
    "$ \\displaystyle H |1 \\rangle = H ( 1/d_n a' |0 \\rangle ) = 1/d_n H a' |0 \\rangle = 1/d_n (a'H + a')  |0 \\rangle \n",
    "= 1/d_n (a'H  |0 \\rangle + a'  |0 \\rangle)   \n",
    "= 1/d_n \\left(a' \\left(1/2 |0 \\rangle \\right) + a'  |0 \\rangle \\right) \n",
    "= 1/2 |1 \\rangle + |1 \\rangle\n",
    "= (1 + 1/2) |1 \\rangle $\n",
    "\n",
    "It follows by induction that\n",
    "\n",
    "$H |n \\rangle = (n + 1/2) |n \\rangle$\n",
    "\n",
    "The coefficients of the creation and annihilation operators can also be obtained.\n",
    "\n",
    "$ \\langle n | H |n \\rangle = (n+1/2)$\n",
    "$ \\langle n | H |n \\rangle =  \\langle n | (a'a + 1/2) |n \\rangle = \\langle n | a'a |n \\rangle + 1/2\n",
    "= c_n^2 + 1/2$\n",
    "\n",
    "Comparing the last two equations we get\n",
    "\n",
    "$c_n = \\sqrt{n} $\n",
    "\n",
    "Similarly we can get\n",
    "$ \\langle n | H |n \\rangle =  \\langle n | (a'a + 1/2) |n \\rangle =  \\langle n | (aa' -1 + 1/2) |n \\rangle \n",
    "= \\langle n | aa' |n \\rangle - 1/2\n",
    "= d_n^2 - 1/2$\n",
    "\n",
    "$ d_n = \\sqrt{n+1} $\n",
    "\n",
    "$ a |n \\rangle = \\sqrt{n} |n - 1 \\rangle $  <br>\n",
    "$ a' |n \\rangle = \\sqrt{n+1} |n + 1 \\rangle $  <br>\n",
    "\n",
    "This leads to the relation\n",
    "\n",
    "$ \\displaystyle |n \\rangle = \\frac{1}{\\sqrt{n!}} (a')^n |0 \\rangle $\n",
    "\n",
    "\n",
    "$ |n \\rangle =  \\frac{1}{\\sqrt{n}} a' |n-1 \\rangle \n",
    "= \\frac{1}{\\sqrt{n(n-1)}} (a')^2 |n-2 \\rangle \n",
    "= \\frac{1}{\\sqrt{n!}} (a')^n |0 \\rangle $"
   ]
  },
  {
   "cell_type": "code",
   "execution_count": 27,
   "metadata": {},
   "outputs": [],
   "source": [
    "reset()\n",
    "%display latex"
   ]
  },
  {
   "cell_type": "code",
   "execution_count": 2,
   "metadata": {},
   "outputs": [],
   "source": [
    "load('analytical_mechanics.sage')"
   ]
  },
  {
   "cell_type": "code",
   "execution_count": 3,
   "metadata": {},
   "outputs": [],
   "source": [
    "m, k, l, t = var('m, k, l, t')\n",
    "w = var('omega')\n",
    "assume(w,'real')\n",
    "assume(t,'real')"
   ]
  },
  {
   "cell_type": "code",
   "execution_count": 4,
   "metadata": {},
   "outputs": [
    {
     "data": {
      "text/html": [
       "<html><script type=\"math/tex; mode=display\">\\newcommand{\\Bold}[1]{\\mathbf{#1}}\\omega</script></html>"
      ],
      "text/plain": [
       "omega"
      ]
     },
     "execution_count": 4,
     "metadata": {},
     "output_type": "execute_result"
    }
   ],
   "source": [
    "conjugate(w)"
   ]
  },
  {
   "cell_type": "code",
   "execution_count": 5,
   "metadata": {},
   "outputs": [],
   "source": [
    "q, p, J, c, ct = dynamical_var('q, p, J, c, ct')"
   ]
  },
  {
   "cell_type": "code",
   "execution_count": 6,
   "metadata": {},
   "outputs": [],
   "source": [
    "V = w^2/2* q^2 - J*q"
   ]
  },
  {
   "cell_type": "code",
   "execution_count": 7,
   "metadata": {},
   "outputs": [],
   "source": [
    "T = kinetic_energy(dot(q), 1)"
   ]
  },
  {
   "cell_type": "code",
   "execution_count": 8,
   "metadata": {},
   "outputs": [
    {
     "data": {
      "text/html": [
       "<html><script type=\"math/tex; mode=display\">\\newcommand{\\Bold}[1]{\\mathbf{#1}}\\frac{1}{2} \\, \\frac{\\partial}{\\partial t}q\\left(t\\right)^{2}</script></html>"
      ],
      "text/plain": [
       "1/2*diff(q(t), t)^2"
      ]
     },
     "execution_count": 8,
     "metadata": {},
     "output_type": "execute_result"
    }
   ],
   "source": [
    "T"
   ]
  },
  {
   "cell_type": "code",
   "execution_count": 9,
   "metadata": {},
   "outputs": [
    {
     "data": {
      "text/html": [
       "<html><script type=\"math/tex; mode=display\">\\newcommand{\\Bold}[1]{\\mathbf{#1}}\\frac{1}{2} \\, \\omega^{2} q\\left(t\\right)^{2} - J\\left(t\\right) q\\left(t\\right)</script></html>"
      ],
      "text/plain": [
       "1/2*omega^2*q(t)^2 - J(t)*q(t)"
      ]
     },
     "execution_count": 9,
     "metadata": {},
     "output_type": "execute_result"
    }
   ],
   "source": [
    "V"
   ]
  },
  {
   "cell_type": "code",
   "execution_count": 10,
   "metadata": {},
   "outputs": [
    {
     "data": {
      "text/html": [
       "<html><script type=\"math/tex; mode=display\">\\newcommand{\\Bold}[1]{\\mathbf{#1}}-\\frac{1}{2} \\, \\omega^{2} q\\left(t\\right)^{2} + J\\left(t\\right) q\\left(t\\right) + \\frac{1}{2} \\, \\frac{\\partial}{\\partial t}q\\left(t\\right)^{2}</script></html>"
      ],
      "text/plain": [
       "-1/2*omega^2*q(t)^2 + J(t)*q(t) + 1/2*diff(q(t), t)^2"
      ]
     },
     "execution_count": 10,
     "metadata": {},
     "output_type": "execute_result"
    }
   ],
   "source": [
    "L = (T - V ).simplify_full()\n",
    "L"
   ]
  },
  {
   "cell_type": "code",
   "execution_count": 11,
   "metadata": {},
   "outputs": [
    {
     "data": {
      "text/html": [
       "<html><script type=\"math/tex; mode=display\">\\newcommand{\\Bold}[1]{\\mathbf{#1}}\\frac{\\partial^{2}}{(\\partial t)^{2}}q\\left(t\\right) = -\\omega^{2} q\\left(t\\right) + J\\left(t\\right)</script></html>"
      ],
      "text/plain": [
       "diff(q(t), t, t) == -omega^2*q(t) + J(t)"
      ]
     },
     "execution_count": 11,
     "metadata": {},
     "output_type": "execute_result"
    }
   ],
   "source": [
    "euler_lagrange_equation(L, q)"
   ]
  },
  {
   "cell_type": "code",
   "execution_count": 12,
   "metadata": {},
   "outputs": [
    {
     "data": {
      "text/html": [
       "<html><script type=\"math/tex; mode=display\">\\newcommand{\\Bold}[1]{\\mathbf{#1}}\\frac{1}{2} \\, \\omega^{2} q\\left(t\\right)^{2} + \\frac{1}{2} \\, p\\left(t\\right)^{2} - J\\left(t\\right) q\\left(t\\right)</script></html>"
      ],
      "text/plain": [
       "1/2*omega^2*q(t)^2 + 1/2*p(t)^2 - J(t)*q(t)"
      ]
     },
     "execution_count": 12,
     "metadata": {},
     "output_type": "execute_result"
    }
   ],
   "source": [
    "H = legendre_transformation(L, dot(q), p)\n",
    "H"
   ]
  },
  {
   "cell_type": "code",
   "execution_count": 13,
   "metadata": {},
   "outputs": [
    {
     "data": {
      "text/html": [
       "<html><script type=\"math/tex; mode=display\">\\newcommand{\\Bold}[1]{\\mathbf{#1}}\\left[\\frac{\\partial}{\\partial t}q\\left(t\\right) = p\\left(t\\right), \\frac{\\partial}{\\partial t}p\\left(t\\right) = -\\omega^{2} q\\left(t\\right) + J\\left(t\\right)\\right]</script></html>"
      ],
      "text/plain": [
       "[diff(q(t), t) == p(t), diff(p(t), t) == -omega^2*q(t) + J(t)]"
      ]
     },
     "execution_count": 13,
     "metadata": {},
     "output_type": "execute_result"
    }
   ],
   "source": [
    "Heqn = hamilton_equations(H, q, p)\n",
    "Heqn"
   ]
  },
  {
   "cell_type": "code",
   "execution_count": 14,
   "metadata": {},
   "outputs": [
    {
     "data": {
      "text/html": [
       "<html><script type=\"math/tex; mode=display\">\\newcommand{\\Bold}[1]{\\mathbf{#1}}\\sqrt{\\frac{1}{2}} \\sqrt{\\omega} {\\left(\\frac{i \\, p\\left(t\\right)}{\\omega} + q\\left(t\\right)\\right)}</script></html>"
      ],
      "text/plain": [
       "sqrt(1/2)*sqrt(omega)*(I*p(t)/omega + q(t))"
      ]
     },
     "execution_count": 14,
     "metadata": {},
     "output_type": "execute_result"
    }
   ],
   "source": [
    "a = sqrt(w/2)*(q + I*p/w)\n",
    "a"
   ]
  },
  {
   "cell_type": "code",
   "execution_count": 15,
   "metadata": {},
   "outputs": [
    {
     "data": {
      "text/html": [
       "<html><script type=\"math/tex; mode=display\">\\newcommand{\\Bold}[1]{\\mathbf{#1}}\\sqrt{\\frac{1}{2}} \\sqrt{\\omega} {\\left(-\\frac{i \\, p\\left(t\\right)}{\\omega} + q\\left(t\\right)\\right)}</script></html>"
      ],
      "text/plain": [
       "sqrt(1/2)*sqrt(omega)*(-I*p(t)/omega + q(t))"
      ]
     },
     "execution_count": 15,
     "metadata": {},
     "output_type": "execute_result"
    }
   ],
   "source": [
    "at = sqrt(w/2)*(q - I*p/w)\n",
    "at"
   ]
  },
  {
   "cell_type": "code",
   "execution_count": 24,
   "metadata": {},
   "outputs": [
    {
     "data": {
      "text/html": [
       "<html><script type=\"math/tex; mode=display\">\\newcommand{\\Bold}[1]{\\mathbf{#1}}\\frac{1}{2} \\, \\omega^{2} q\\left(t\\right)^{2} + \\frac{1}{2} \\, p\\left(t\\right)^{2}</script></html>"
      ],
      "text/plain": [
       "1/2*omega^2*q(t)^2 + 1/2*p(t)^2"
      ]
     },
     "execution_count": 24,
     "metadata": {},
     "output_type": "execute_result"
    }
   ],
   "source": [
    "expand(w*at*a)"
   ]
  },
  {
   "cell_type": "markdown",
   "metadata": {},
   "source": [
    "### $p = p(a,a^\\dagger)$"
   ]
  },
  {
   "cell_type": "code",
   "execution_count": 17,
   "metadata": {},
   "outputs": [
    {
     "data": {
      "text/html": [
       "<html><script type=\"math/tex; mode=display\">\\newcommand{\\Bold}[1]{\\mathbf{#1}}\\left[\\left[k = -\\frac{1}{2} \\, {\\left(i \\, \\sqrt{2} b - i \\, \\sqrt{2} \\mathit{bt}\\right)} \\sqrt{\\omega}, l = \\frac{\\sqrt{2} b + \\sqrt{2} \\mathit{bt}}{2 \\, \\sqrt{\\omega}}\\right]\\right]</script></html>"
      ],
      "text/plain": [
       "[[k == -1/2*(I*sqrt(2)*b - I*sqrt(2)*bt)*sqrt(omega), l == 1/2*(sqrt(2)*b + sqrt(2)*bt)/sqrt(omega)]]"
      ]
     },
     "execution_count": 17,
     "metadata": {},
     "output_type": "execute_result"
    }
   ],
   "source": [
    "var('b, bt')\n",
    "solns = solve([b == sqrt(w/2)*(l+ I*k/w), bt == sqrt(w/2)*(l- I*k/w) ],l,k)\n",
    "solns"
   ]
  },
  {
   "cell_type": "markdown",
   "metadata": {},
   "source": [
    "Set the solutions to q and p respectively. We cannot call them q and p since they are already defined in terms of the creation and annhilation operators. So we call them qn and pn instead. We also rename the creation and annhilation operators as c and ct respectively to avoid automatic substitution by Sage(since they are already defined before). "
   ]
  },
  {
   "cell_type": "code",
   "execution_count": 18,
   "metadata": {},
   "outputs": [
    {
     "data": {
      "text/html": [
       "<html><script type=\"math/tex; mode=display\">\\newcommand{\\Bold}[1]{\\mathbf{#1}}\\frac{\\sqrt{2} c\\left(t\\right) + \\sqrt{2} {\\rm ct}\\left(t\\right)}{2 \\, \\sqrt{\\omega}}</script></html>"
      ],
      "text/plain": [
       "1/2*(sqrt(2)*c(t) + sqrt(2)*ct(t))/sqrt(omega)"
      ]
     },
     "execution_count": 18,
     "metadata": {},
     "output_type": "execute_result"
    }
   ],
   "source": [
    "qn=solns[0][1].right().subs({b:c,bt:ct})\n",
    "qn"
   ]
  },
  {
   "cell_type": "code",
   "execution_count": 19,
   "metadata": {},
   "outputs": [
    {
     "data": {
      "text/html": [
       "<html><script type=\"math/tex; mode=display\">\\newcommand{\\Bold}[1]{\\mathbf{#1}}-\\frac{1}{2} \\, {\\left(i \\, \\sqrt{2} \\frac{\\partial}{\\partial t}c\\left(t\\right) - i \\, \\sqrt{2} \\frac{\\partial}{\\partial t}{\\rm ct}\\left(t\\right)\\right)} \\sqrt{\\omega}</script></html>"
      ],
      "text/plain": [
       "-1/2*(I*sqrt(2)*diff(c(t), t) - I*sqrt(2)*diff(ct(t), t))*sqrt(omega)"
      ]
     },
     "execution_count": 19,
     "metadata": {},
     "output_type": "execute_result"
    }
   ],
   "source": [
    "pn=solns[0][0].right().subs({b:c,bt:ct})\n",
    "pn.diff(t)"
   ]
  },
  {
   "cell_type": "markdown",
   "metadata": {},
   "source": [
    "Substitute $p = p(a,a^\\dagger)$ and $q = q(a,a^\\dagger)$ in Hamilton's equation and prepare it to solve for $a$ and $a^\\dagger$ by substituting regular variable (l,k) in place of ($\\dot{a}, \\dot{a^\\dagger})$. (l,k) needs to be used instead of a function since sage cannot solve an equation in terms of functions."
   ]
  },
  {
   "cell_type": "code",
   "execution_count": 20,
   "metadata": {},
   "outputs": [
    {
     "data": {
      "text/html": [
       "<html><script type=\"math/tex; mode=display\">\\newcommand{\\Bold}[1]{\\mathbf{#1}}-\\frac{1}{2} \\, \\sqrt{2} {\\left(-i \\, k + i \\, l\\right)} \\sqrt{\\omega} = -\\frac{1}{2} \\, \\sqrt{2} {\\left(\\omega^{\\frac{3}{2}} c\\left(t\\right) + \\omega^{\\frac{3}{2}} {\\rm ct}\\left(t\\right) - \\sqrt{2} J\\left(t\\right)\\right)}</script></html>"
      ],
      "text/plain": [
       "-1/2*sqrt(2)*(-I*k + I*l)*sqrt(omega) == -1/2*sqrt(2)*(omega^(3/2)*c(t) + omega^(3/2)*ct(t) - sqrt(2)*J(t))"
      ]
     },
     "execution_count": 20,
     "metadata": {},
     "output_type": "execute_result"
    }
   ],
   "source": [
    "eqn1 = Heqn[1].substitute({q:qn,diff(p):pn.diff(t)}).subs({diff(c):l,diff(ct):k}).simplify().expand().factor()\n",
    "eqn1"
   ]
  },
  {
   "cell_type": "code",
   "execution_count": 21,
   "metadata": {},
   "outputs": [
    {
     "data": {
      "text/html": [
       "<html><script type=\"math/tex; mode=display\">\\newcommand{\\Bold}[1]{\\mathbf{#1}}\\frac{\\sqrt{2} {\\left(k + l\\right)}}{2 \\, \\sqrt{\\omega}} = -\\frac{1}{2} i \\, \\sqrt{2} \\sqrt{\\omega} {\\left(c\\left(t\\right) - {\\rm ct}\\left(t\\right)\\right)}</script></html>"
      ],
      "text/plain": [
       "1/2*sqrt(2)*(k + l)/sqrt(omega) == -1/2*I*sqrt(2)*sqrt(omega)*(c(t) - ct(t))"
      ]
     },
     "execution_count": 21,
     "metadata": {},
     "output_type": "execute_result"
    }
   ],
   "source": [
    "eqn2 = Heqn[0].substitute({diff(q):qn.diff(t),p:pn}).subs({diff(c):l,diff(ct):k}).simplify().expand().factor()\n",
    "eqn2"
   ]
  },
  {
   "cell_type": "markdown",
   "metadata": {},
   "source": [
    "Now that we have the equation for the annhilation operator we can substitute the l with $\\dot{a}$."
   ]
  },
  {
   "cell_type": "code",
   "execution_count": 23,
   "metadata": {},
   "outputs": [
    {
     "data": {
      "text/html": [
       "<html><script type=\"math/tex; mode=display\">\\newcommand{\\Bold}[1]{\\mathbf{#1}}\\frac{\\partial}{\\partial t}c\\left(t\\right) = -i \\, \\omega c\\left(t\\right) + \\frac{i \\, \\sqrt{2} J\\left(t\\right)}{2 \\, \\sqrt{\\omega}}</script></html>"
      ],
      "text/plain": [
       "diff(c(t), t) == -I*omega*c(t) + 1/2*I*sqrt(2)*J(t)/sqrt(omega)"
      ]
     },
     "execution_count": 23,
     "metadata": {},
     "output_type": "execute_result"
    }
   ],
   "source": [
    "soln2 = solve([eqn1,eqn2],l,k)\n",
    "soln2[0][0].simplify().expand().subs({l:c.diff(t)})"
   ]
  },
  {
   "cell_type": "markdown",
   "metadata": {},
   "source": [
    "Let us rewrtite this equation by replacing the variable c(t) with a(t), the annihilation operators. \n",
    "\n",
    "$\\displaystyle \\frac{d}{dt} a(t) = -i \\omega a(t) + \\frac{i}{\\sqrt{2 \\omega}} J(t)$\n",
    "\n",
    "This is an equation with a source term. It cannot be solved by Sage. It needs to be solved using Green's function method. \n",
    "\n",
    "The solution is \n",
    "\n",
    "$\\displaystyle a = a_o e^{-i \\omega t} + \\int_0^t J(t') e^{-i \\omega (t - t')} dt' $\n",
    "\n",
    "If we differentiate this solution w.r.t time, t, using the Leibniz integral rule we get back the differential equation.\n",
    "\n",
    "**Leibniz integral rule**\n",
    "\n",
    "$\\displaystyle \\int _{a(x)}^{b(x)}f(x,t)\\,dt$ \n",
    "\n",
    "the derivative of this integral is expressible as\n",
    "\n",
    "$ {\\displaystyle {\\frac {d}{dx}}\\left(\\int _{a(x)}^{b(x)}f(x,t)\\,dt\\right)=f{\\big (}x,b(x){\\big )}\\cdot {\\frac {d}{dx}}b(x)-f{\\big (}x,a(x){\\big )}\\cdot {\\frac {d}{dx}}a(x)+\\int _{a(x)}^{b(x)}{\\frac {\\partial }{\\partial x}}f(x,t)\\,dt,} $"
   ]
  },
  {
   "cell_type": "markdown",
   "metadata": {},
   "source": [
    "### The in and out region\n",
    "\n",
    "The driving force J(t) is only turned ON from t=0 to t=T. <br> \n",
    "So before t=0 the annihilation operators a(t) are solutions of a SHO and have the solution: $a_{in}(t) = a_{in} e^{- i \\omega t}$ and after t=T  $a_{out}(t) = a_{out} e^{- i \\omega t}$. <br> \n",
    "We are in the Heisenberg picture so the time evolution is of the operators and not the states. Hence, $a_{in}(t)$ and  $a_{out}(t)$ are themselves related by  \n",
    "\n",
    "$\\displaystyle a_{out}(t) \n",
    "= a_{in}(t) e^{-i \\omega t} + \\int_0^t J(t') e^{-i \\omega (t - t')} dt' \n",
    "= a_{in}(t) e^{-i \\omega t} + e^{-i \\omega t} \\int_0^t J(t') e^{i \\omega t'} dt' \n",
    "$\n",
    "\n",
    "The states, and hence the operators, change when a driving force is applied between t=0 and t=T. That change is given by the equation.\n",
    "\n",
    "$\\displaystyle a_{out} = a_{in} + \\int_0^T J(t')  e^{i \\omega t'} dt' = a_{in} + J_0 $\n"
   ]
  },
  {
   "cell_type": "markdown",
   "metadata": {},
   "source": [
    "### Excited states\n",
    "\n",
    "We define 2 different vaccums. One for the  in-state (before turning on the perturbation) and one for the out state (after the perturbation is turned off). And the annihilation operators for the IN and OUT states are the operators for the corresponding vaccums.   \n",
    "$ a_{in} |0 \\rangle_{in} = 0,   a_{out} |0 \\rangle_{out} = 0$ \n",
    "\n",
    "These operators can also cross act. So $a_{in}$ can act on $ |0 \\rangle_{out}$ and vice-versa. The idea is that in the Heisenberg picture turning on the perturbation does not change the states but changes the operators which annohilate the vaccum. So $a_{in}$ evolves to $a_{out}$ while the underlying vaccum remains same, in contrast to the Scrodinger picture where the states themselves change due to the perturbation. <br>\n",
    "\n",
    "The the annihilation operators for the OUT state can act on the IN state vacuum to create particles. In fact the IN state is an eigenvector of the OUT state annihilation operator with eigenvalue $J_0$.\n",
    "\n",
    "$  a_{out} |0 \\rangle_{in} = ( a_{in}  + J_0) |0 \\rangle_{in} =  J_0 |0 \\rangle_{in} $ "
   ]
  },
  {
   "cell_type": "markdown",
   "metadata": {},
   "source": [
    "### IN vaccum filled with OUT state particles\n",
    "\n",
    "The IN state vaccum can be expanded in the full set of OUT states\n",
    "\n",
    "$ \\displaystyle |0 \\rangle_{in} = \\sum_{n=0}^\\infty \\Lambda_n |n \\rangle_{out} $\n",
    "\n",
    "Operate on both sides with $a_{out}$\n",
    "\n",
    "Given $ a_{out} |n \\rangle_{out} = \\sqrt{n} |n-1 \\rangle_{out}  $ (see the beginning of the document) and $  a_{out} |0 \\rangle_{in} = ( a_{in}  + J_0) |0 \\rangle_{in} =  J_0 |0 \\rangle_{in} $.\n",
    "\n",
    "$ \\displaystyle J_0 |0 \\rangle_{in} = \\sum_{n=0}^\\infty \\Lambda_n  \\sqrt{n} |n-1 \\rangle_{out}   $\n",
    "\n",
    "$ \\displaystyle J_0 \\sum_{n=0}^\\infty \\Lambda_n |n \\rangle_{out}  = \\sum_{n=0}^\\infty \\Lambda_n  \\sqrt{n} |n-1 \\rangle_{out}  $\n",
    "\n",
    "$ \\displaystyle J_0 \\Lambda_{n-1}  =  \\Lambda_n  \\sqrt{n}   $\n",
    "\n",
    "$ \\displaystyle  \\Lambda_{n+1}  =  \\frac{J_0}{ \\sqrt{n+1}} \\Lambda_n   $\n",
    "\n",
    "This recurrence relation has the solution\n",
    "\n",
    "$ \\displaystyle \\Lambda_n =  \\frac{J_0^n}{ \\sqrt{n!}} \\Lambda_0 $\n",
    "\n",
    "Since $|0 \\rangle_{in}$ is normalized\n",
    "\n",
    "$ \\displaystyle {}_{in}\\langle 0 |0 \\rangle_{in} = 1 $\n",
    "\n",
    "it leads to evaluation of every coefficient in the expansion starting with $\\Lambda_0$\n",
    "\n",
    "$ \\displaystyle {}_{in}\\langle 0 |0 \\rangle_{in} =  \\sum_{n=0}^\\infty |\\Lambda_n|^2 \n",
    "= \\sum_{n=0}^\\infty  \\frac{J_0^{2n}}{ n!} |\\Lambda_0|^2\n",
    "= exp\\left[J_o^2\\right]  |\\Lambda_0|^2$\n",
    "\n",
    "This being equal to 1 leads to\n",
    "\n",
    "$ \\displaystyle |\\Lambda_0| =  exp\\left[-\\frac{1}{2}J_o^2\\right] $\n",
    "\n",
    "Plugging this back into $ \\displaystyle |0 \\rangle_{in} = \\sum_{n=0}^\\infty \\Lambda_n |n \\rangle_{out} $ and using $ \\displaystyle |n \\rangle = \\frac{1}{\\sqrt{n!}} (a')^n |0 \\rangle $\n",
    "\n",
    "\n",
    "$ \\displaystyle |0 \\rangle_{in} \n",
    "= \\sum_{n=0}^\\infty \\Lambda_0 \\frac{J_0^n}{ \\sqrt{n!}}  |n \\rangle_{out} \n",
    "= \\sum_{n=0}^\\infty  exp\\left[-\\frac{1}{2}J_o^2\\right] \\frac{J_0^n}{ \\sqrt{n!}}  |n \\rangle_{out} \n",
    "=  exp\\left[-\\frac{1}{2}J_o^2\\right] \\sum_{n=0}^\\infty \\left( \\frac{J_0^n}{ \\sqrt{n!}}  |n \\rangle_{out}  \\right)\n",
    "=  exp\\left[-\\frac{1}{2}J_o^2\\right] \\sum_{n=0}^\\infty \\left( \\frac{J_0^n}{ \\sqrt{n!}} \\frac{1}{\\sqrt{n!}} (a_{out}')^n   |0 \\rangle_{out} \\right)\n",
    "=  exp\\left[-\\frac{1}{2}J_o^2\\right]  \\left(  exp\\left[ J_0 a_{out}' \\right]  |0 \\rangle_{out} \\right)\n",
    "=  exp\\left[-\\frac{1}{2}J_o^2 + J_0 a_{out}' \\right]  |0 \\rangle_{out}\n",
    "$\n",
    "\n",
    "This relation shows that particle production happens after vaccum is acted on by an external force J(t).\n"
   ]
  },
  {
   "cell_type": "markdown",
   "metadata": {},
   "source": []
  }
 ],
 "metadata": {
  "kernelspec": {
   "display_name": "SageMath 8.1",
   "language": "",
   "name": "sagemath"
  },
  "language_info": {
   "codemirror_mode": {
    "name": "ipython",
    "version": 2
   },
   "file_extension": ".py",
   "mimetype": "text/x-python",
   "name": "python",
   "nbconvert_exporter": "python",
   "pygments_lexer": "ipython2",
   "version": "2.7.15+"
  }
 },
 "nbformat": 4,
 "nbformat_minor": 2
}
