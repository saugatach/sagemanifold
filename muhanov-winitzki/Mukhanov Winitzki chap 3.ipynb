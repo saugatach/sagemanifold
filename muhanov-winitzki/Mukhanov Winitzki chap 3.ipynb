{
 "cells": [
  {
   "cell_type": "code",
   "execution_count": 135,
   "metadata": {},
   "outputs": [],
   "source": [
    "reset()\n",
    "%display latex"
   ]
  },
  {
   "cell_type": "code",
   "execution_count": 136,
   "metadata": {},
   "outputs": [],
   "source": [
    "load('analytical_mechanics.sage')"
   ]
  },
  {
   "cell_type": "code",
   "execution_count": 137,
   "metadata": {},
   "outputs": [],
   "source": [
    "m, k, l, t = var('m, k, l, t')\n",
    "w = var('omega')\n",
    "assume(w,'real')\n",
    "assume(t,'real')"
   ]
  },
  {
   "cell_type": "code",
   "execution_count": 138,
   "metadata": {},
   "outputs": [
    {
     "data": {
      "text/html": [
       "<html><script type=\"math/tex; mode=display\">\\newcommand{\\Bold}[1]{\\mathbf{#1}}\\omega</script></html>"
      ],
      "text/plain": [
       "omega"
      ]
     },
     "execution_count": 138,
     "metadata": {},
     "output_type": "execute_result"
    }
   ],
   "source": [
    "conjugate(w)"
   ]
  },
  {
   "cell_type": "code",
   "execution_count": 139,
   "metadata": {},
   "outputs": [],
   "source": [
    "q, p, J, c, ct = dynamical_var('q, p, J, c, ct')"
   ]
  },
  {
   "cell_type": "code",
   "execution_count": 140,
   "metadata": {},
   "outputs": [],
   "source": [
    "V = w^2/2* q^2 - J*q"
   ]
  },
  {
   "cell_type": "code",
   "execution_count": 141,
   "metadata": {},
   "outputs": [],
   "source": [
    "T = kinetic_energy(dot(q), 1)"
   ]
  },
  {
   "cell_type": "code",
   "execution_count": 142,
   "metadata": {},
   "outputs": [
    {
     "data": {
      "text/html": [
       "<html><script type=\"math/tex; mode=display\">\\newcommand{\\Bold}[1]{\\mathbf{#1}}\\frac{1}{2} \\, \\frac{\\partial}{\\partial t}q\\left(t\\right)^{2}</script></html>"
      ],
      "text/plain": [
       "1/2*diff(q(t), t)^2"
      ]
     },
     "execution_count": 142,
     "metadata": {},
     "output_type": "execute_result"
    }
   ],
   "source": [
    "T"
   ]
  },
  {
   "cell_type": "code",
   "execution_count": 143,
   "metadata": {},
   "outputs": [
    {
     "data": {
      "text/html": [
       "<html><script type=\"math/tex; mode=display\">\\newcommand{\\Bold}[1]{\\mathbf{#1}}\\frac{1}{2} \\, \\omega^{2} q\\left(t\\right)^{2} - J\\left(t\\right) q\\left(t\\right)</script></html>"
      ],
      "text/plain": [
       "1/2*omega^2*q(t)^2 - J(t)*q(t)"
      ]
     },
     "execution_count": 143,
     "metadata": {},
     "output_type": "execute_result"
    }
   ],
   "source": [
    "V"
   ]
  },
  {
   "cell_type": "code",
   "execution_count": 144,
   "metadata": {},
   "outputs": [
    {
     "data": {
      "text/html": [
       "<html><script type=\"math/tex; mode=display\">\\newcommand{\\Bold}[1]{\\mathbf{#1}}-\\frac{1}{2} \\, \\omega^{2} q\\left(t\\right)^{2} + J\\left(t\\right) q\\left(t\\right) + \\frac{1}{2} \\, \\frac{\\partial}{\\partial t}q\\left(t\\right)^{2}</script></html>"
      ],
      "text/plain": [
       "-1/2*omega^2*q(t)^2 + J(t)*q(t) + 1/2*diff(q(t), t)^2"
      ]
     },
     "execution_count": 144,
     "metadata": {},
     "output_type": "execute_result"
    }
   ],
   "source": [
    "L = (T - V ).simplify_full()\n",
    "L"
   ]
  },
  {
   "cell_type": "code",
   "execution_count": 145,
   "metadata": {},
   "outputs": [
    {
     "data": {
      "text/html": [
       "<html><script type=\"math/tex; mode=display\">\\newcommand{\\Bold}[1]{\\mathbf{#1}}\\frac{\\partial^{2}}{(\\partial t)^{2}}q\\left(t\\right) = -\\omega^{2} q\\left(t\\right) + J\\left(t\\right)</script></html>"
      ],
      "text/plain": [
       "diff(q(t), t, t) == -omega^2*q(t) + J(t)"
      ]
     },
     "execution_count": 145,
     "metadata": {},
     "output_type": "execute_result"
    }
   ],
   "source": [
    "euler_lagrange_equation(L, q)"
   ]
  },
  {
   "cell_type": "code",
   "execution_count": 146,
   "metadata": {},
   "outputs": [
    {
     "data": {
      "text/html": [
       "<html><script type=\"math/tex; mode=display\">\\newcommand{\\Bold}[1]{\\mathbf{#1}}\\frac{1}{2} \\, \\omega^{2} q\\left(t\\right)^{2} + \\frac{1}{2} \\, p\\left(t\\right)^{2} - J\\left(t\\right) q\\left(t\\right)</script></html>"
      ],
      "text/plain": [
       "1/2*omega^2*q(t)^2 + 1/2*p(t)^2 - J(t)*q(t)"
      ]
     },
     "execution_count": 146,
     "metadata": {},
     "output_type": "execute_result"
    }
   ],
   "source": [
    "H = legendre_transformation(L, dot(q), p)\n",
    "H"
   ]
  },
  {
   "cell_type": "code",
   "execution_count": 147,
   "metadata": {},
   "outputs": [
    {
     "data": {
      "text/html": [
       "<html><script type=\"math/tex; mode=display\">\\newcommand{\\Bold}[1]{\\mathbf{#1}}\\left[\\frac{\\partial}{\\partial t}q\\left(t\\right) = p\\left(t\\right), \\frac{\\partial}{\\partial t}p\\left(t\\right) = -\\omega^{2} q\\left(t\\right) + J\\left(t\\right)\\right]</script></html>"
      ],
      "text/plain": [
       "[diff(q(t), t) == p(t), diff(p(t), t) == -omega^2*q(t) + J(t)]"
      ]
     },
     "execution_count": 147,
     "metadata": {},
     "output_type": "execute_result"
    }
   ],
   "source": [
    "Heqn = hamilton_equations(H, q, p)\n",
    "Heqn"
   ]
  },
  {
   "cell_type": "code",
   "execution_count": 148,
   "metadata": {},
   "outputs": [
    {
     "data": {
      "text/html": [
       "<html><script type=\"math/tex; mode=display\">\\newcommand{\\Bold}[1]{\\mathbf{#1}}\\sqrt{\\frac{1}{2}} \\sqrt{\\omega} {\\left(\\frac{i \\, p\\left(t\\right)}{\\omega} + q\\left(t\\right)\\right)}</script></html>"
      ],
      "text/plain": [
       "sqrt(1/2)*sqrt(omega)*(I*p(t)/omega + q(t))"
      ]
     },
     "execution_count": 148,
     "metadata": {},
     "output_type": "execute_result"
    }
   ],
   "source": [
    "a = sqrt(w/2)*(q + I*p/w)\n",
    "a"
   ]
  },
  {
   "cell_type": "code",
   "execution_count": 149,
   "metadata": {},
   "outputs": [
    {
     "data": {
      "text/html": [
       "<html><script type=\"math/tex; mode=display\">\\newcommand{\\Bold}[1]{\\mathbf{#1}}\\sqrt{\\frac{1}{2}} \\sqrt{\\omega} {\\left(-\\frac{i \\, p\\left(t\\right)}{\\omega} + q\\left(t\\right)\\right)}</script></html>"
      ],
      "text/plain": [
       "sqrt(1/2)*sqrt(omega)*(-I*p(t)/omega + q(t))"
      ]
     },
     "execution_count": 149,
     "metadata": {},
     "output_type": "execute_result"
    }
   ],
   "source": [
    "at = sqrt(w/2)*(q - I*p/w)\n",
    "at"
   ]
  },
  {
   "cell_type": "code",
   "execution_count": 150,
   "metadata": {},
   "outputs": [
    {
     "data": {
      "text/html": [
       "<html><script type=\"math/tex; mode=display\">\\newcommand{\\Bold}[1]{\\mathbf{#1}}\\frac{1}{2} \\, \\omega^{2} q\\left(t\\right)^{2} + \\frac{1}{2} \\, p\\left(t\\right)^{2}</script></html>"
      ],
      "text/plain": [
       "1/2*omega^2*q(t)^2 + 1/2*p(t)^2"
      ]
     },
     "execution_count": 150,
     "metadata": {},
     "output_type": "execute_result"
    }
   ],
   "source": [
    "expand(w*at*a)"
   ]
  },
  {
   "cell_type": "markdown",
   "metadata": {},
   "source": [
    "### $p = p(a,a^\\dagger)$"
   ]
  },
  {
   "cell_type": "code",
   "execution_count": 151,
   "metadata": {},
   "outputs": [
    {
     "data": {
      "text/html": [
       "<html><script type=\"math/tex; mode=display\">\\newcommand{\\Bold}[1]{\\mathbf{#1}}\\left[\\left[k = -\\frac{1}{2} \\, {\\left(i \\, \\sqrt{2} b - i \\, \\sqrt{2} \\mathit{bt}\\right)} \\sqrt{\\omega}, l = \\frac{\\sqrt{2} b + \\sqrt{2} \\mathit{bt}}{2 \\, \\sqrt{\\omega}}\\right]\\right]</script></html>"
      ],
      "text/plain": [
       "[[k == -1/2*(I*sqrt(2)*b - I*sqrt(2)*bt)*sqrt(omega), l == 1/2*(sqrt(2)*b + sqrt(2)*bt)/sqrt(omega)]]"
      ]
     },
     "execution_count": 151,
     "metadata": {},
     "output_type": "execute_result"
    }
   ],
   "source": [
    "var('b, bt')\n",
    "solns = solve([b == sqrt(w/2)*(l+ I*k/w), bt == sqrt(w/2)*(l- I*k/w) ],l,k)\n",
    "solns"
   ]
  },
  {
   "cell_type": "markdown",
   "metadata": {},
   "source": [
    "Set the solutions to q and p respectively. We cannot call them q and p since they are already defined in terms of the creation and annhilation operators. So we call them qn and pn instead. We also rename the creation and annhilation operators as c and ct respectively to avoid automatic substitution by Sage(since they are already defined before). "
   ]
  },
  {
   "cell_type": "code",
   "execution_count": 153,
   "metadata": {},
   "outputs": [
    {
     "data": {
      "text/html": [
       "<html><script type=\"math/tex; mode=display\">\\newcommand{\\Bold}[1]{\\mathbf{#1}}\\frac{\\sqrt{2} c\\left(t\\right) + \\sqrt{2} {\\rm ct}\\left(t\\right)}{2 \\, \\sqrt{\\omega}}</script></html>"
      ],
      "text/plain": [
       "1/2*(sqrt(2)*c(t) + sqrt(2)*ct(t))/sqrt(omega)"
      ]
     },
     "execution_count": 153,
     "metadata": {},
     "output_type": "execute_result"
    }
   ],
   "source": [
    "qn=solns[0][1].right().subs({b:c,bt:ct})\n",
    "qn"
   ]
  },
  {
   "cell_type": "code",
   "execution_count": 154,
   "metadata": {},
   "outputs": [
    {
     "data": {
      "text/html": [
       "<html><script type=\"math/tex; mode=display\">\\newcommand{\\Bold}[1]{\\mathbf{#1}}-\\frac{1}{2} \\, {\\left(i \\, \\sqrt{2} \\frac{\\partial}{\\partial t}c\\left(t\\right) - i \\, \\sqrt{2} \\frac{\\partial}{\\partial t}{\\rm ct}\\left(t\\right)\\right)} \\sqrt{\\omega}</script></html>"
      ],
      "text/plain": [
       "-1/2*(I*sqrt(2)*diff(c(t), t) - I*sqrt(2)*diff(ct(t), t))*sqrt(omega)"
      ]
     },
     "execution_count": 154,
     "metadata": {},
     "output_type": "execute_result"
    }
   ],
   "source": [
    "pn=solns[0][0].right().subs({b:c,bt:ct})\n",
    "pn.diff(t)"
   ]
  },
  {
   "cell_type": "markdown",
   "metadata": {},
   "source": [
    "Substitute $p = p(a,a^\\dagger)$ and $q = q(a,a^\\dagger)$ in Hamilton's equation and prepare it to solve for $a$ and $a^\\dagger$ by substituting regular variable (l,k) in place of ($\\dot{a}, \\dot{a^\\dagger})$. (l,k) needs to be used instead of a function since sage cannot solve an equation in terms of functions."
   ]
  },
  {
   "cell_type": "code",
   "execution_count": 155,
   "metadata": {},
   "outputs": [
    {
     "data": {
      "text/html": [
       "<html><script type=\"math/tex; mode=display\">\\newcommand{\\Bold}[1]{\\mathbf{#1}}-\\frac{1}{2} \\, \\sqrt{2} {\\left(-i \\, k + i \\, l\\right)} \\sqrt{\\omega} = -\\frac{1}{2} \\, \\sqrt{2} {\\left(\\omega^{\\frac{3}{2}} c\\left(t\\right) + \\omega^{\\frac{3}{2}} {\\rm ct}\\left(t\\right) - \\sqrt{2} J\\left(t\\right)\\right)}</script></html>"
      ],
      "text/plain": [
       "-1/2*sqrt(2)*(-I*k + I*l)*sqrt(omega) == -1/2*sqrt(2)*(omega^(3/2)*c(t) + omega^(3/2)*ct(t) - sqrt(2)*J(t))"
      ]
     },
     "execution_count": 155,
     "metadata": {},
     "output_type": "execute_result"
    }
   ],
   "source": [
    "eqn1 = Heqn[1].substitute({q:qn,diff(p):pn.diff(t)}).subs({diff(c):l,diff(ct):k}).simplify().expand().factor()\n",
    "eqn1"
   ]
  },
  {
   "cell_type": "code",
   "execution_count": 156,
   "metadata": {},
   "outputs": [
    {
     "data": {
      "text/html": [
       "<html><script type=\"math/tex; mode=display\">\\newcommand{\\Bold}[1]{\\mathbf{#1}}\\frac{\\sqrt{2} {\\left(k + l\\right)}}{2 \\, \\sqrt{\\omega}} = -\\frac{1}{2} i \\, \\sqrt{2} \\sqrt{\\omega} {\\left(c\\left(t\\right) - {\\rm ct}\\left(t\\right)\\right)}</script></html>"
      ],
      "text/plain": [
       "1/2*sqrt(2)*(k + l)/sqrt(omega) == -1/2*I*sqrt(2)*sqrt(omega)*(c(t) - ct(t))"
      ]
     },
     "execution_count": 156,
     "metadata": {},
     "output_type": "execute_result"
    }
   ],
   "source": [
    "eqn2 = Heqn[0].substitute({diff(q):qn.diff(t),p:pn}).subs({diff(c):l,diff(ct):k}).simplify().expand().factor()\n",
    "eqn2"
   ]
  },
  {
   "cell_type": "markdown",
   "metadata": {},
   "source": [
    "Now that we have the equation for the annhilation operator we can substitute the l with $\\dot{a}$."
   ]
  },
  {
   "cell_type": "code",
   "execution_count": 171,
   "metadata": {},
   "outputs": [
    {
     "data": {
      "text/html": [
       "<html><script type=\"math/tex; mode=display\">\\newcommand{\\Bold}[1]{\\mathbf{#1}}\\frac{\\partial}{\\partial t}c\\left(t\\right) = -i \\, \\omega c\\left(t\\right) + \\frac{i \\, \\sqrt{2} J\\left(t\\right)}{2 \\, \\sqrt{\\omega}}</script></html>"
      ],
      "text/plain": [
       "diff(c(t), t) == -I*omega*c(t) + 1/2*I*sqrt(2)*J(t)/sqrt(omega)"
      ]
     },
     "execution_count": 171,
     "metadata": {},
     "output_type": "execute_result"
    }
   ],
   "source": [
    "soln2 = solve([eqn1,eqn2],l,k)\n",
    "soln2[0][0].simplify().expand().subs({l:c.diff(t)})"
   ]
  },
  {
   "cell_type": "markdown",
   "metadata": {},
   "source": [
    "This is an equation with a source term. It cannot be solved by Sage. It needs to be solved using Green's function method."
   ]
  },
  {
   "cell_type": "code",
   "execution_count": null,
   "metadata": {},
   "outputs": [],
   "source": []
  }
 ],
 "metadata": {
  "kernelspec": {
   "display_name": "SageMath 8.1",
   "language": "",
   "name": "sagemath"
  },
  "language_info": {
   "codemirror_mode": {
    "name": "ipython",
    "version": 2
   },
   "file_extension": ".py",
   "mimetype": "text/x-python",
   "name": "python",
   "nbconvert_exporter": "python",
   "pygments_lexer": "ipython2",
   "version": "2.7.15+"
  }
 },
 "nbformat": 4,
 "nbformat_minor": 2
}
